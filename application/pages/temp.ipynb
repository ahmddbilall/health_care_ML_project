{
 "cells": [
  {
   "cell_type": "code",
   "execution_count": 3,
   "metadata": {},
   "outputs": [],
   "source": [
    "import pandas as pd"
   ]
  },
  {
   "cell_type": "code",
   "execution_count": 19,
   "metadata": {},
   "outputs": [
    {
     "name": "stderr",
     "output_type": "stream",
     "text": [
      "<>:2: SyntaxWarning: invalid escape sequence '\\d'\n",
      "<>:2: SyntaxWarning: invalid escape sequence '\\d'\n",
      "C:\\Users\\hp\\AppData\\Local\\Temp\\ipykernel_8852\\2269697223.py:2: SyntaxWarning: invalid escape sequence '\\d'\n",
      "  df_non_encoded = pd.read_csv('C:\\\\Users\\\\hp\\\\Desktop\\\\health_care_ML_project\\\\application\\data.csv')\n"
     ]
    }
   ],
   "source": [
    "df_encoded = pd.read_csv('C:\\\\Users\\\\hp\\\\Desktop\\\\health_care_ML_project\\\\application\\\\dataNameEncoded.csv')\n",
    "df_non_encoded = pd.read_csv('C:\\\\Users\\\\hp\\\\Desktop\\\\health_care_ML_project\\\\application\\data.csv')"
   ]
  },
  {
   "cell_type": "code",
   "execution_count": 22,
   "metadata": {},
   "outputs": [],
   "source": [
    "df_non_encoded.rename(columns={'e':'world_bank_income_level_encoded'}, inplace=True)"
   ]
  },
  {
   "cell_type": "code",
   "execution_count": 23,
   "metadata": {},
   "outputs": [],
   "source": [
    "df_encoded.rename(columns={'who_region': 'who_region_encoded','world_bank_income_level':'world_bank_income_level_encoded'}, inplace=True)"
   ]
  },
  {
   "cell_type": "code",
   "execution_count": 24,
   "metadata": {},
   "outputs": [
    {
     "data": {
      "text/plain": [
       "Index(['name_0', 'name_1', 'name_2', 'name_3', 'name_4', 'name_5', 'name_6',\n",
       "       'name_7', 'health_expenditure', 'who_region_encoded',\n",
       "       'world_bank_income_level_encoded', 'population growth rate%', 'year',\n",
       "       'population', 'life_expectancy', 'health_life_expectancy',\n",
       "       'Number of new HIV infections', 'Suicide deaths', 'Adult obesity%',\n",
       "       'Tobacco use%', 'Alcohol consumption', 'Prevalence of hypertension%'],\n",
       "      dtype='object')"
      ]
     },
     "execution_count": 24,
     "metadata": {},
     "output_type": "execute_result"
    }
   ],
   "source": [
    "df_encoded.columns"
   ]
  },
  {
   "cell_type": "code",
   "execution_count": 25,
   "metadata": {},
   "outputs": [],
   "source": [
    "df_encoded['name']=df_non_encoded['name']\n",
    "df_encoded['world_bank_income_level']=df_non_encoded['world_bank_income_level']\n",
    "df_encoded['who_region']=df_non_encoded['who_region']"
   ]
  },
  {
   "cell_type": "code",
   "execution_count": 26,
   "metadata": {},
   "outputs": [],
   "source": [
    "df_encoded.to_csv('C:\\\\Users\\\\hp\\\\Desktop\\\\health_care_ML_project\\\\application\\\\data.csv', index=False)"
   ]
  }
 ],
 "metadata": {
  "kernelspec": {
   "display_name": "env",
   "language": "python",
   "name": "python3"
  },
  "language_info": {
   "codemirror_mode": {
    "name": "ipython",
    "version": 3
   },
   "file_extension": ".py",
   "mimetype": "text/x-python",
   "name": "python",
   "nbconvert_exporter": "python",
   "pygments_lexer": "ipython3",
   "version": "3.12.6"
  }
 },
 "nbformat": 4,
 "nbformat_minor": 2
}
