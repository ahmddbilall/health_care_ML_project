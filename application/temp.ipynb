{
 "cells": [
  {
   "cell_type": "code",
   "execution_count": 7,
   "metadata": {},
   "outputs": [
    {
     "name": "stdout",
     "output_type": "stream",
     "text": [
      "Requirement already satisfied: pandas in d:\\desktop\\health_care_ml_project\\env\\lib\\site-packages (2.2.3)"
     ]
    },
    {
     "name": "stderr",
     "output_type": "stream",
     "text": [
      "\n",
      "[notice] A new release of pip is available: 24.2 -> 24.3.1\n",
      "[notice] To update, run: python.exe -m pip install --upgrade pip\n"
     ]
    },
    {
     "name": "stdout",
     "output_type": "stream",
     "text": [
      "\n",
      "Requirement already satisfied: numpy>=1.26.0 in d:\\desktop\\health_care_ml_project\\env\\lib\\site-packages (from pandas) (2.0.2)\n",
      "Requirement already satisfied: python-dateutil>=2.8.2 in d:\\desktop\\health_care_ml_project\\env\\lib\\site-packages (from pandas) (2.9.0.post0)\n",
      "Requirement already satisfied: pytz>=2020.1 in d:\\desktop\\health_care_ml_project\\env\\lib\\site-packages (from pandas) (2024.2)\n",
      "Requirement already satisfied: tzdata>=2022.7 in d:\\desktop\\health_care_ml_project\\env\\lib\\site-packages (from pandas) (2024.2)\n",
      "Requirement already satisfied: six>=1.5 in d:\\desktop\\health_care_ml_project\\env\\lib\\site-packages (from python-dateutil>=2.8.2->pandas) (1.16.0)\n"
     ]
    }
   ],
   "source": [
    "\n",
    "import pandas as pd"
   ]
  },
  {
   "cell_type": "code",
   "execution_count": 11,
   "metadata": {},
   "outputs": [],
   "source": [
    "df=pd.read_csv(\"D:\\\\Desktop\\\\health_care_ML_project\\\\application\\\\data.csv\")"
   ]
  },
  {
   "cell_type": "code",
   "execution_count": 25,
   "metadata": {},
   "outputs": [
    {
     "data": {
      "text/plain": [
       "Index(['name_0', 'name_1', 'name_2', 'name_3', 'name_4', 'name_5', 'name_6',\n",
       "       'name_7', 'health_expenditure', 'who_region_encoded',\n",
       "       'world_bank_income_level_encoded', 'population growth rate%', 'year',\n",
       "       'population', 'life_expectancy', 'health_life_expectancy',\n",
       "       'Number of new HIV infections', 'Suicide deaths', 'Adult obesity%',\n",
       "       'Tobacco use%', 'Alcohol consumption', 'Prevalence of hypertension%',\n",
       "       'name', 'world_bank_income_level', 'who_region'],\n",
       "      dtype='object')"
      ]
     },
     "execution_count": 25,
     "metadata": {},
     "output_type": "execute_result"
    }
   ],
   "source": [
    "df.columns"
   ]
  },
  {
   "cell_type": "code",
   "execution_count": null,
   "metadata": {},
   "outputs": [
    {
     "name": "stdout",
     "output_type": "stream",
     "text": [
      "world_bank_income_level  High income (HIC)  Low income (LIC)  \\\n",
      "who_region                                                     \n",
      "Africa                                   1                22   \n",
      "Americas                                10                 0   \n",
      "Eastern Mediterranean                    6                 4   \n",
      "Europe                                  34                 0   \n",
      "South East Asia                          0                 0   \n",
      "Western Pacific                          7                 0   \n",
      "\n",
      "world_bank_income_level  Lower-middle income (LMC)  Upper-middle income (UMC)  \n",
      "who_region                                                                     \n",
      "Africa                                          18                          6  \n",
      "Americas                                         5                         19  \n",
      "Eastern Mediterranean                            7                          3  \n",
      "Europe                                           4                         15  \n",
      "South East Asia                                  8                          2  \n",
      "Western Pacific                                 11                          7  \n"
     ]
    }
   ],
   "source": [
    "unique_countries = df[['who_region', 'world_bank_income_level', 'name']].drop_duplicates()\n",
    "\n",
    "# Count the unique countries for each combination of WHO region and income level\n",
    "region_income_country_count = unique_countries.groupby(['who_region', 'world_bank_income_level']).size().unstack(fill_value=0)\n",
    "\n",
    "# Display the result\n",
    "print(region_income_country_count)\n",
    "\n",
    "select * mean(*)\n",
    "from df\n",
    "group by year \n",
    "\n",
    "\n",
    "\n",
    "\n",
    "user selects a country time sereis grph\n",
    "select \n",
    "from df\n",
    "gropu by\n",
    "where country is selected country\n",
    "\n",
    "\n",
    "\n",
    "life expectency alcohol consumption and tobacco comsumption \n",
    "with time\n",
    "\n",
    "health_life_expectancy hyptertension and obesity level with time\n",
    "\n",
    "\n",
    "popluatuons of all countries using bar chart chart for year"
   ]
  },
  {
   "cell_type": "code",
   "execution_count": 19,
   "metadata": {},
   "outputs": [
    {
     "name": "stdout",
     "output_type": "stream",
     "text": [
      "world_bank_income_level\n",
      "High income (HIC)            8.685172\n",
      "Low income (LIC)             6.671923\n",
      "Lower-middle income (LMC)    5.799623\n",
      "Upper-middle income (UMC)    7.521731\n",
      "Name: health_expenditure, dtype: float64\n"
     ]
    }
   ],
   "source": [
    "# Calculate the mean of 'health_expenditure' grouped by 'world_bank_income_level'\n",
    "mean_health_expenditure = df.groupby('world_bank_income_level')['health_expenditure'].mean()\n",
    "\n",
    "# Display the result\n",
    "print(mean_health_expenditure)"
   ]
  },
  {
   "cell_type": "code",
   "execution_count": 23,
   "metadata": {},
   "outputs": [
    {
     "name": "stdout",
     "output_type": "stream",
     "text": [
      "      population  Number of new HIV infections  Suicide deaths  \\\n",
      "year                                                             \n",
      "2000   81.635643                      1.452500       11.633686   \n",
      "2001   82.863150                      1.394626       11.455363   \n",
      "2002   84.579731                      1.341641       11.400227   \n",
      "2003   80.887880                      1.293388       11.252308   \n",
      "2004   82.162860                      1.254680       11.155417   \n",
      "2005   83.444760                      1.204025       11.176047   \n",
      "2006   84.605574                      1.146755       10.993581   \n",
      "2007   69.981132                      1.103848       10.894617   \n",
      "2008   70.747043                      1.061911       10.979159   \n",
      "2009   71.530093                      1.018517       11.031226   \n",
      "2010   72.217280                      0.975619       10.878136   \n",
      "2011   72.891768                      0.938601       10.743641   \n",
      "2012   73.571136                      0.908080       10.733367   \n",
      "2013   74.291789                      0.876296       10.585949   \n",
      "2014   69.751116                      0.840820       10.445239   \n",
      "2015   70.487168                      0.789208       10.272982   \n",
      "2016   71.065773                      0.739876       10.021449   \n",
      "2017   71.383266                      0.699252        9.817331   \n",
      "2018   72.119039                      0.662548        9.718885   \n",
      "2019   76.294475                      0.630685        9.623017   \n",
      "2020   77.278795                      0.597846        9.527141   \n",
      "2021   78.126595                      0.576851        9.431259   \n",
      "2022   78.954530                      0.546062        9.335369   \n",
      "2023   75.478783                      0.515802        9.239485   \n",
      "2024   76.081218                      0.486185        9.143606   \n",
      "\n",
      "      Adult obesity%  Tobacco use%  Alcohol consumption  \\\n",
      "year                                                      \n",
      "2000       13.829598     24.930954             2.659770   \n",
      "2001       14.584956     24.842301             2.728890   \n",
      "2002       14.393046     24.653034             2.845233   \n",
      "2003       13.894583     25.212972             2.645383   \n",
      "2004       13.961732     24.831920             2.689053   \n",
      "2005       13.170361     24.953514             2.729962   \n",
      "2006       14.388238     24.987650             2.834880   \n",
      "2007       14.543144     24.999860             2.713680   \n",
      "2008       13.995718     24.983415             2.756348   \n",
      "2009       13.665570     24.832753             2.536415   \n",
      "2010       14.215818     25.146405             2.840124   \n",
      "2011       14.445874     24.865995             2.607979   \n",
      "2012       13.909930     24.932420             3.106990   \n",
      "2013       14.992321     25.188210             2.832186   \n",
      "2014       14.849779     25.140476             2.728456   \n",
      "2015       13.942979     25.050519             2.853961   \n",
      "2016       13.896783     24.500991             2.739200   \n",
      "2017       14.056871     24.857718             2.830907   \n",
      "2018       13.891302     24.832827             3.031869   \n",
      "2019       14.187691     24.765760             2.597786   \n",
      "2020       14.577490     25.008202             2.882406   \n",
      "2021       14.657439     25.005995             2.630903   \n",
      "2022       13.934392     24.588063             2.949406   \n",
      "2023       14.971734     25.151987             2.849182   \n",
      "2024       14.105928     24.817339             2.758767   \n",
      "\n",
      "      Prevalence of hypertension%  life_expectancy  health_life_expectancy  \n",
      "year                                                                        \n",
      "2000                    40.940427        67.042373               52.772703  \n",
      "2001                    40.250145        67.347087               53.480983  \n",
      "2002                    40.522636        67.650244               51.558413  \n",
      "2003                    40.493087        67.950424               54.372665  \n",
      "2004                    40.497061        68.232749               54.575651  \n",
      "2005                    40.409924        68.539051               54.573688  \n",
      "2006                    40.633423        68.828712               53.667421  \n",
      "2007                    40.308677        69.141227               55.554433  \n",
      "2008                    40.597590        69.445534               54.218095  \n",
      "2009                    40.579682        69.734545               54.140167  \n",
      "2010                    40.511942        70.034382               54.773850  \n",
      "2011                    40.357655        70.320437               55.830017  \n",
      "2012                    40.403979        70.600713               54.403762  \n",
      "2013                    40.741223        70.873047               55.207341  \n",
      "2014                    40.693843        71.155951               55.307168  \n",
      "2015                    40.545504        71.446414               54.391895  \n",
      "2016                    40.613183        71.674699               55.203337  \n",
      "2017                    40.427657        71.926209               54.902924  \n",
      "2018                    40.474030        72.162718               57.428955  \n",
      "2019                    40.896702        72.399385               56.961670  \n",
      "2020                    40.559757        71.814467               56.411622  \n",
      "2021                    40.035089        71.217908               54.643775  \n",
      "2022                    40.839208        70.621129               54.506957  \n",
      "2023                    40.208200        70.019140               54.592200  \n",
      "2024                    40.814054        69.445278               55.344958  \n"
     ]
    }
   ],
   "source": [
    "# Select only numeric columns\n",
    "numeric_df = df.select_dtypes(include='number')\n",
    "\n",
    "# Group by 'year' and calculate the mean of numeric columns\n",
    "grouped_df = numeric_df.groupby('year').mean()\n",
    "\n",
    "# Display the result\n",
    "\n",
    "\n",
    "\n",
    "selected_columns = ['population', 'Number of new HIV infections', 'Suicide deaths', 'Adult obesity%', 'Tobacco use%', 'Alcohol consumption', 'Prevalence of hypertension%', 'life_expectancy', 'health_life_expectancy']\n",
    "grouped_df = grouped_df[selected_columns]\n",
    "print(grouped_df)\n"
   ]
  }
 ],
 "metadata": {
  "kernelspec": {
   "display_name": "env",
   "language": "python",
   "name": "python3"
  },
  "language_info": {
   "codemirror_mode": {
    "name": "ipython",
    "version": 3
   },
   "file_extension": ".py",
   "mimetype": "text/x-python",
   "name": "python",
   "nbconvert_exporter": "python",
   "pygments_lexer": "ipython3",
   "version": "3.12.7"
  }
 },
 "nbformat": 4,
 "nbformat_minor": 2
}
