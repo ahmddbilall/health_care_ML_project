{
 "cells": [
  {
   "cell_type": "code",
   "execution_count": 12,
   "metadata": {},
   "outputs": [],
   "source": [
    "import importlib\n",
    "import functions\n",
    "importlib.reload(functions) \n",
    "from functions import *"
   ]
  },
  {
   "cell_type": "code",
   "execution_count": 4,
   "metadata": {},
   "outputs": [],
   "source": [
    "BASE_LINK = 'https://data.who.int/countries'"
   ]
  },
  {
   "cell_type": "code",
   "execution_count": 5,
   "metadata": {},
   "outputs": [
    {
     "name": "stderr",
     "output_type": "stream",
     "text": [
      "There was an error managing msedgedriver (error sending request for url (https://msedgedriver.azureedge.net/LATEST_RELEASE_126_LINUX)); using driver found in the cache\n"
     ]
    }
   ],
   "source": [
    "driver = start_browser()"
   ]
  },
  {
   "cell_type": "code",
   "execution_count": 6,
   "metadata": {},
   "outputs": [],
   "source": [
    "open_page(driver, BASE_LINK)"
   ]
  },
  {
   "cell_type": "code",
   "execution_count": 7,
   "metadata": {},
   "outputs": [],
   "source": [
    "countries = get_list_of_countries(driver)"
   ]
  },
  {
   "cell_type": "code",
   "execution_count": 8,
   "metadata": {},
   "outputs": [
    {
     "name": "stdout",
     "output_type": "stream",
     "text": [
      "Total 194 countries found\n"
     ]
    }
   ],
   "source": [
    "print(f\"Total {len(countries)} countries found\")"
   ]
  },
  {
   "cell_type": "code",
   "execution_count": 7,
   "metadata": {},
   "outputs": [],
   "source": [
    "\n",
    "\n",
    "print('name ', get_country_name(driver))\n",
    "print('expenditure ', get_current_health_expenditure(driver).split('(')[0])\n",
    "print('region', get_who_region(driver))\n",
    "print('income level',get_world_bank_income_level(driver))\n",
    "print('pop growth', get_population_growth_rate(driver))\n",
    "\n",
    "# 24 years data with keys as year and values as data\n",
    "print('pop data \\n', get_population_data(driver))\n",
    "interpolate_life_and_health_expectancy_data(get_life_expectancy_data(driver))\n",
    "interpolate_life_and_health_expectancy_data(get_health_life_expectancy_data(driver))\n",
    "interpolate_indicators_data(get_indicator_data(driver,get_indicators(driver)))\n"
   ]
  },
  {
   "cell_type": "code",
   "execution_count": 13,
   "metadata": {},
   "outputs": [
    {
     "ename": "TimeoutException",
     "evalue": "Message: timeout: Timed out receiving message from renderer: -0.037\n  (Session info: MicrosoftEdge=126.0.2592.102)\nStacktrace:\n#0 0x56136474167e <unknown>\n#1 0x5613643fe682 <unknown>\n#2 0x5613643e86d8 <unknown>\n#3 0x5613643e84a2 <unknown>\n#4 0x5613643e67ce <unknown>\n#5 0x5613643e6d04 <unknown>\n#6 0x5613643fabb1 <unknown>\n#7 0x56136440a29f <unknown>\n#8 0x56136440f17b <unknown>\n#9 0x5613643e7335 <unknown>\n#10 0x561364409f20 <unknown>\n#11 0x56136448a3d6 <unknown>\n#12 0x56136446c713 <unknown>\n#13 0x56136443da43 <unknown>\n#14 0x56136443e7fe <unknown>\n#15 0x561364711151 <unknown>\n#16 0x5613647142ad <unknown>\n#17 0x561364713d32 <unknown>\n#18 0x561364714735 <unknown>\n#19 0x5613647024db <unknown>\n#20 0x561364714ad1 <unknown>\n#21 0x5613646eee05 <unknown>\n#22 0x5613647325b8 <unknown>\n#23 0x561364732749 <unknown>\n#24 0x5613647409f1 <unknown>\n#25 0x7f232e53edab <unknown>\n",
     "output_type": "error",
     "traceback": [
      "\u001b[0;31m---------------------------------------------------------------------------\u001b[0m",
      "\u001b[0;31mTimeoutException\u001b[0m                          Traceback (most recent call last)",
      "Cell \u001b[0;32mIn[13], line 1\u001b[0m\n\u001b[0;32m----> 1\u001b[0m \u001b[43mopen_page\u001b[49m\u001b[43m(\u001b[49m\u001b[43mdriver\u001b[49m\u001b[43m,\u001b[49m\u001b[43mcountries\u001b[49m\u001b[43m[\u001b[49m\u001b[38;5;241;43m0\u001b[39;49m\u001b[43m]\u001b[49m\u001b[43m)\u001b[49m\n\u001b[1;32m      2\u001b[0m interpolate_indicators_data(get_indicator_data(driver,get_indicators(driver)))\n",
      "File \u001b[0;32m~/Desktop/health_care_ML_project/scraping/functions.py:20\u001b[0m, in \u001b[0;36mopen_page\u001b[0;34m(driver, link)\u001b[0m\n\u001b[1;32m     15\u001b[0m \u001b[38;5;28;01mdef\u001b[39;00m \u001b[38;5;21mopen_page\u001b[39m(driver ,link):\n\u001b[1;32m     16\u001b[0m \u001b[38;5;250m    \u001b[39m\u001b[38;5;124;03m'''\u001b[39;00m\n\u001b[1;32m     17\u001b[0m \u001b[38;5;124;03m    Load the given URL and wait until the page is fully loaded.\u001b[39;00m\n\u001b[1;32m     18\u001b[0m \u001b[38;5;124;03m    If the page does not load within 10 seconds, an exception will be raised.\u001b[39;00m\n\u001b[1;32m     19\u001b[0m \u001b[38;5;124;03m    '''\u001b[39;00m\n\u001b[0;32m---> 20\u001b[0m     \u001b[43mdriver\u001b[49m\u001b[38;5;241;43m.\u001b[39;49m\u001b[43mget\u001b[49m\u001b[43m(\u001b[49m\u001b[43mlink\u001b[49m\u001b[43m)\u001b[49m\n\u001b[1;32m     21\u001b[0m     wait_for_page_load(driver)\n\u001b[1;32m     22\u001b[0m     \u001b[38;5;28;01massert\u001b[39;00m \u001b[38;5;124m\"\u001b[39m\u001b[38;5;124mNo results found.\u001b[39m\u001b[38;5;124m\"\u001b[39m \u001b[38;5;129;01mnot\u001b[39;00m \u001b[38;5;129;01min\u001b[39;00m driver\u001b[38;5;241m.\u001b[39mpage_source\n",
      "File \u001b[0;32m~/Desktop/health_care_ML_project/env/lib/python3.11/site-packages/selenium/webdriver/remote/webdriver.py:363\u001b[0m, in \u001b[0;36mWebDriver.get\u001b[0;34m(self, url)\u001b[0m\n\u001b[1;32m    361\u001b[0m \u001b[38;5;28;01mdef\u001b[39;00m \u001b[38;5;21mget\u001b[39m(\u001b[38;5;28mself\u001b[39m, url: \u001b[38;5;28mstr\u001b[39m) \u001b[38;5;241m-\u001b[39m\u001b[38;5;241m>\u001b[39m \u001b[38;5;28;01mNone\u001b[39;00m:\n\u001b[1;32m    362\u001b[0m \u001b[38;5;250m    \u001b[39m\u001b[38;5;124;03m\"\"\"Loads a web page in the current browser session.\"\"\"\u001b[39;00m\n\u001b[0;32m--> 363\u001b[0m     \u001b[38;5;28;43mself\u001b[39;49m\u001b[38;5;241;43m.\u001b[39;49m\u001b[43mexecute\u001b[49m\u001b[43m(\u001b[49m\u001b[43mCommand\u001b[49m\u001b[38;5;241;43m.\u001b[39;49m\u001b[43mGET\u001b[49m\u001b[43m,\u001b[49m\u001b[43m \u001b[49m\u001b[43m{\u001b[49m\u001b[38;5;124;43m\"\u001b[39;49m\u001b[38;5;124;43murl\u001b[39;49m\u001b[38;5;124;43m\"\u001b[39;49m\u001b[43m:\u001b[49m\u001b[43m \u001b[49m\u001b[43murl\u001b[49m\u001b[43m}\u001b[49m\u001b[43m)\u001b[49m\n",
      "File \u001b[0;32m~/Desktop/health_care_ML_project/env/lib/python3.11/site-packages/selenium/webdriver/remote/webdriver.py:354\u001b[0m, in \u001b[0;36mWebDriver.execute\u001b[0;34m(self, driver_command, params)\u001b[0m\n\u001b[1;32m    352\u001b[0m response \u001b[38;5;241m=\u001b[39m \u001b[38;5;28mself\u001b[39m\u001b[38;5;241m.\u001b[39mcommand_executor\u001b[38;5;241m.\u001b[39mexecute(driver_command, params)\n\u001b[1;32m    353\u001b[0m \u001b[38;5;28;01mif\u001b[39;00m response:\n\u001b[0;32m--> 354\u001b[0m     \u001b[38;5;28;43mself\u001b[39;49m\u001b[38;5;241;43m.\u001b[39;49m\u001b[43merror_handler\u001b[49m\u001b[38;5;241;43m.\u001b[39;49m\u001b[43mcheck_response\u001b[49m\u001b[43m(\u001b[49m\u001b[43mresponse\u001b[49m\u001b[43m)\u001b[49m\n\u001b[1;32m    355\u001b[0m     response[\u001b[38;5;124m\"\u001b[39m\u001b[38;5;124mvalue\u001b[39m\u001b[38;5;124m\"\u001b[39m] \u001b[38;5;241m=\u001b[39m \u001b[38;5;28mself\u001b[39m\u001b[38;5;241m.\u001b[39m_unwrap_value(response\u001b[38;5;241m.\u001b[39mget(\u001b[38;5;124m\"\u001b[39m\u001b[38;5;124mvalue\u001b[39m\u001b[38;5;124m\"\u001b[39m, \u001b[38;5;28;01mNone\u001b[39;00m))\n\u001b[1;32m    356\u001b[0m     \u001b[38;5;28;01mreturn\u001b[39;00m response\n",
      "File \u001b[0;32m~/Desktop/health_care_ML_project/env/lib/python3.11/site-packages/selenium/webdriver/remote/errorhandler.py:229\u001b[0m, in \u001b[0;36mErrorHandler.check_response\u001b[0;34m(self, response)\u001b[0m\n\u001b[1;32m    227\u001b[0m         alert_text \u001b[38;5;241m=\u001b[39m value[\u001b[38;5;124m\"\u001b[39m\u001b[38;5;124malert\u001b[39m\u001b[38;5;124m\"\u001b[39m]\u001b[38;5;241m.\u001b[39mget(\u001b[38;5;124m\"\u001b[39m\u001b[38;5;124mtext\u001b[39m\u001b[38;5;124m\"\u001b[39m)\n\u001b[1;32m    228\u001b[0m     \u001b[38;5;28;01mraise\u001b[39;00m exception_class(message, screen, stacktrace, alert_text)  \u001b[38;5;66;03m# type: ignore[call-arg]  # mypy is not smart enough here\u001b[39;00m\n\u001b[0;32m--> 229\u001b[0m \u001b[38;5;28;01mraise\u001b[39;00m exception_class(message, screen, stacktrace)\n",
      "\u001b[0;31mTimeoutException\u001b[0m: Message: timeout: Timed out receiving message from renderer: -0.037\n  (Session info: MicrosoftEdge=126.0.2592.102)\nStacktrace:\n#0 0x56136474167e <unknown>\n#1 0x5613643fe682 <unknown>\n#2 0x5613643e86d8 <unknown>\n#3 0x5613643e84a2 <unknown>\n#4 0x5613643e67ce <unknown>\n#5 0x5613643e6d04 <unknown>\n#6 0x5613643fabb1 <unknown>\n#7 0x56136440a29f <unknown>\n#8 0x56136440f17b <unknown>\n#9 0x5613643e7335 <unknown>\n#10 0x561364409f20 <unknown>\n#11 0x56136448a3d6 <unknown>\n#12 0x56136446c713 <unknown>\n#13 0x56136443da43 <unknown>\n#14 0x56136443e7fe <unknown>\n#15 0x561364711151 <unknown>\n#16 0x5613647142ad <unknown>\n#17 0x561364713d32 <unknown>\n#18 0x561364714735 <unknown>\n#19 0x5613647024db <unknown>\n#20 0x561364714ad1 <unknown>\n#21 0x5613646eee05 <unknown>\n#22 0x5613647325b8 <unknown>\n#23 0x561364732749 <unknown>\n#24 0x5613647409f1 <unknown>\n#25 0x7f232e53edab <unknown>\n"
     ]
    }
   ],
   "source": [
    "open_page(driver,countries[0])\n",
    "interpolate_indicators_data(get_indicator_data(driver,get_indicators(driver)))\n"
   ]
  },
  {
   "cell_type": "code",
   "execution_count": 9,
   "metadata": {},
   "outputs": [],
   "source": [
    "Data = []"
   ]
  },
  {
   "cell_type": "code",
   "execution_count": 10,
   "metadata": {},
   "outputs": [
    {
     "name": "stdout",
     "output_type": "stream",
     "text": [
      "Error fetching data for 1990\n",
      "Error fetching data for 1991\n"
     ]
    },
    {
     "ename": "KeyboardInterrupt",
     "evalue": "",
     "output_type": "error",
     "traceback": [
      "\u001b[0;31m---------------------------------------------------------------------------\u001b[0m",
      "\u001b[0;31mKeyboardInterrupt\u001b[0m                         Traceback (most recent call last)",
      "Cell \u001b[0;32mIn[10], line 13\u001b[0m\n\u001b[1;32m     11\u001b[0m life_expectancy_data \u001b[38;5;241m=\u001b[39m interpolate_life_and_health_expectancy_data(get_life_expectancy_data(driver))\n\u001b[1;32m     12\u001b[0m health_life_expectancy_data \u001b[38;5;241m=\u001b[39m interpolate_life_and_health_expectancy_data(get_health_life_expectancy_data(driver))\n\u001b[0;32m---> 13\u001b[0m indicators_data \u001b[38;5;241m=\u001b[39m interpolate_indicators_data(\u001b[43mget_indicator_data\u001b[49m\u001b[43m(\u001b[49m\u001b[43mdriver\u001b[49m\u001b[43m,\u001b[49m\u001b[43mget_indicators\u001b[49m\u001b[43m(\u001b[49m\u001b[43mdriver\u001b[49m\u001b[43m)\u001b[49m\u001b[43m)\u001b[49m)\n\u001b[1;32m     15\u001b[0m \u001b[38;5;28;01mfor\u001b[39;00m i \u001b[38;5;129;01min\u001b[39;00m \u001b[38;5;28mrange\u001b[39m(\u001b[38;5;241m2000\u001b[39m,\u001b[38;5;241m2025\u001b[39m):\n\u001b[1;32m     16\u001b[0m     Data\u001b[38;5;241m.\u001b[39mappend({\n\u001b[1;32m     17\u001b[0m         \u001b[38;5;124m'\u001b[39m\u001b[38;5;124mname\u001b[39m\u001b[38;5;124m'\u001b[39m: name,\n\u001b[1;32m     18\u001b[0m         \u001b[38;5;124m'\u001b[39m\u001b[38;5;124mexpenditure\u001b[39m\u001b[38;5;124m'\u001b[39m: expenditure,\n\u001b[0;32m   (...)\u001b[0m\n\u001b[1;32m     26\u001b[0m         \u001b[38;5;124m'\u001b[39m\u001b[38;5;124mindicators\u001b[39m\u001b[38;5;124m'\u001b[39m: indicators_data[i]\n\u001b[1;32m     27\u001b[0m     })\n",
      "File \u001b[0;32m~/Desktop/health_care_ML_project/scraping/functions.py:154\u001b[0m, in \u001b[0;36mget_indicator_data\u001b[0;34m(driver, urls)\u001b[0m\n\u001b[1;32m    151\u001b[0m \u001b[38;5;28;01mfor\u001b[39;00m option \u001b[38;5;129;01min\u001b[39;00m options:\n\u001b[1;32m    152\u001b[0m     option\u001b[38;5;241m.\u001b[39mclick()  \n\u001b[0;32m--> 154\u001b[0m     time\u001b[38;5;241m.\u001b[39msleep(\u001b[38;5;241m1\u001b[39m)  \n\u001b[1;32m    156\u001b[0m     \u001b[38;5;28;01mtry\u001b[39;00m:\n\u001b[1;32m    157\u001b[0m         span_element \u001b[38;5;241m=\u001b[39m driver\u001b[38;5;241m.\u001b[39mfind_element(By\u001b[38;5;241m.\u001b[39mCSS_SELECTOR, \u001b[38;5;124m'\u001b[39m\u001b[38;5;124mtr.border-bottom.svelte-193mdey.selected td[data-testid=\u001b[39m\u001b[38;5;124m\"\u001b[39m\u001b[38;5;124mdataDotViz-collapsibleTable-data-point\u001b[39m\u001b[38;5;124m\"\u001b[39m\u001b[38;5;124m] span.svelte-193mdey\u001b[39m\u001b[38;5;124m'\u001b[39m)\n",
      "\u001b[0;31mKeyboardInterrupt\u001b[0m: "
     ]
    }
   ],
   "source": [
    "for country in countries[:1]:\n",
    "    open_page(driver, country)\n",
    "\n",
    "    name = get_country_name(driver)\n",
    "    expenditure = get_current_health_expenditure(driver).split('(')[0]\n",
    "    region = get_who_region(driver)\n",
    "    income_level = get_world_bank_income_level(driver)\n",
    "    population_growth = get_population_growth_rate(driver)\n",
    "    \n",
    "    population_data = get_population_data(driver)\n",
    "    life_expectancy_data = interpolate_life_and_health_expectancy_data(get_life_expectancy_data(driver))\n",
    "    health_life_expectancy_data = interpolate_life_and_health_expectancy_data(get_health_life_expectancy_data(driver))\n",
    "    indicators_data = interpolate_indicators_data(get_indicator_data(driver, get_indicators(driver)))\n",
    "\n",
    "    for i in range(2000, 2025):\n",
    "        row = {\n",
    "            'name': name,\n",
    "            'health_expenditure': expenditure,\n",
    "            'who_region': region,\n",
    "            'world_bank_income_level': income_level,\n",
    "            'population_growth_rate': population_growth,\n",
    "            'year': i,\n",
    "            'population': population_data.get(i, None),\n",
    "            'life_expectancy': life_expectancy_data.get(i, None),\n",
    "            'health_life_expectancy': health_life_expectancy_data.get(i, None),\n",
    "        }\n",
    "\n",
    "        # Add each indicator as a column in the row\n",
    "        for indicator, years_data in indicators_data.items():\n",
    "            row[indicator] = years_data.get(i, None)  # Get data for the year i, default to None if not available\n",
    "\n",
    "        Data.append(row)\n"
   ]
  },
  {
   "cell_type": "code",
   "execution_count": null,
   "metadata": {},
   "outputs": [],
   "source": [
    "Data"
   ]
  },
  {
   "cell_type": "code",
   "execution_count": null,
   "metadata": {},
   "outputs": [],
   "source": []
  },
  {
   "cell_type": "code",
   "execution_count": null,
   "metadata": {},
   "outputs": [],
   "source": []
  },
  {
   "cell_type": "code",
   "execution_count": null,
   "metadata": {},
   "outputs": [],
   "source": []
  },
  {
   "cell_type": "code",
   "execution_count": null,
   "metadata": {},
   "outputs": [],
   "source": []
  },
  {
   "cell_type": "code",
   "execution_count": null,
   "metadata": {},
   "outputs": [],
   "source": []
  },
  {
   "cell_type": "code",
   "execution_count": null,
   "metadata": {},
   "outputs": [],
   "source": []
  },
  {
   "cell_type": "markdown",
   "metadata": {},
   "source": [
    "## 1\n"
   ]
  },
  {
   "cell_type": "code",
   "execution_count": null,
   "metadata": {},
   "outputs": [],
   "source": []
  },
  {
   "cell_type": "code",
   "execution_count": null,
   "metadata": {},
   "outputs": [],
   "source": [
    "\n"
   ]
  },
  {
   "cell_type": "code",
   "execution_count": null,
   "metadata": {},
   "outputs": [],
   "source": []
  },
  {
   "cell_type": "code",
   "execution_count": null,
   "metadata": {},
   "outputs": [],
   "source": []
  },
  {
   "cell_type": "code",
   "execution_count": null,
   "metadata": {},
   "outputs": [],
   "source": []
  },
  {
   "cell_type": "code",
   "execution_count": null,
   "metadata": {},
   "outputs": [],
   "source": []
  },
  {
   "cell_type": "code",
   "execution_count": 24,
   "metadata": {},
   "outputs": [],
   "source": []
  },
  {
   "cell_type": "code",
   "execution_count": null,
   "metadata": {},
   "outputs": [],
   "source": []
  },
  {
   "cell_type": "code",
   "execution_count": 80,
   "metadata": {},
   "outputs": [
    {
     "name": "stdout",
     "output_type": "stream",
     "text": [
      "[]\n"
     ]
    }
   ],
   "source": []
  },
  {
   "cell_type": "code",
   "execution_count": null,
   "metadata": {},
   "outputs": [],
   "source": []
  }
 ],
 "metadata": {
  "kernelspec": {
   "display_name": "Python 3",
   "language": "python",
   "name": "python3"
  },
  "language_info": {
   "codemirror_mode": {
    "name": "ipython",
    "version": 3
   },
   "file_extension": ".py",
   "mimetype": "text/x-python",
   "name": "python",
   "nbconvert_exporter": "python",
   "pygments_lexer": "ipython3",
   "version": "3.11.9"
  }
 },
 "nbformat": 4,
 "nbformat_minor": 2
}
