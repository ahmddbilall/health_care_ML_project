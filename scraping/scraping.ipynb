{
 "cells": [
  {
   "cell_type": "code",
<<<<<<< HEAD
   "execution_count": 1,
=======
   "execution_count": 83,
>>>>>>> 1294949038462e93bc9938565c886f948a098a01
   "metadata": {},
   "outputs": [],
   "source": [
    "import importlib\n",
    "import functions\n",
    "\n",
    "importlib.reload(functions) \n",
    "\n",
    "from functions import *"
   ]
  },
  {
   "cell_type": "code",
   "execution_count": 2,
   "metadata": {},
   "outputs": [],
   "source": [
    "BASE_LINK = 'https://data.who.int/countries'"
   ]
  },
  {
   "cell_type": "code",
<<<<<<< HEAD
   "execution_count": 3,
=======
   "execution_count": 32,
>>>>>>> 1294949038462e93bc9938565c886f948a098a01
   "metadata": {},
   "outputs": [],
   "source": [
    "driver = start_browser()"
   ]
  },
  {
   "cell_type": "code",
<<<<<<< HEAD
   "execution_count": 4,
=======
   "execution_count": 113,
>>>>>>> 1294949038462e93bc9938565c886f948a098a01
   "metadata": {},
   "outputs": [],
   "source": [
    "open_page(driver, BASE_LINK)"
   ]
  },
  {
   "cell_type": "code",
<<<<<<< HEAD
   "execution_count": 5,
=======
   "execution_count": 110,
>>>>>>> 1294949038462e93bc9938565c886f948a098a01
   "metadata": {},
   "outputs": [],
   "source": [
    "counteries = get_list_of_countries(driver)"
   ]
  },
  {
   "cell_type": "code",
<<<<<<< HEAD
   "execution_count": 10,
=======
   "execution_count": 111,
>>>>>>> 1294949038462e93bc9938565c886f948a098a01
   "metadata": {},
   "outputs": [
    {
     "name": "stdout",
     "output_type": "stream",
     "text": [
      "Total 194 countries found\n"
     ]
    }
   ],
   "source": [
    "print(f\"Total {len(counteries)} countries found\")"
   ]
  },
  {
   "cell_type": "markdown",
   "metadata": {},
   "source": [
    "## NOW use only 1st country present in counteries list and write the required functions"
   ]
  },
  {
   "cell_type": "code",
<<<<<<< HEAD
   "execution_count": 6,
=======
   "execution_count": 116,
>>>>>>> 1294949038462e93bc9938565c886f948a098a01
   "metadata": {},
   "outputs": [],
   "source": [
    "country = counteries[130] #130 for Pakistan\n",
    "open_page(driver,country)"
   ]
  },
  {
   "cell_type": "markdown",
   "metadata": {},
   "source": [
    "## NAJAM\n",
    "\n",
    "**Things to do**\n",
    "- 1 Name of country\n",
    "- 2 Current health expenditure (% of GDP)\n",
    "- 3 WHO region\n",
    "- 4 World Bank income level\n",
    "- 5 Population growth rate\n",
    "- 6 Leading cause of death\n",
    "- 7 Leading cause of under 5 mortality\n",
    "- 8 extract data from population graph from 2000 to 2024 (get twenty rows w.r.t two columns year and population)\n",
    "- 9 extract data from life expentency at birth graph (get twenty data points from 2000 to 2024 with two columns year and total (not male or female))\n",
    "- 10 extract data from Healthy life expectancy (HALE) at birth graph (get twenty data points from 2000 to 2024 with two columns year and total (not male or female))\n"
   ]
  },
  {
   "cell_type": "code",
   "execution_count": 117,
   "metadata": {},
   "outputs": [],
   "source": [
    "import importlib\n",
    "import functions\n",
    "\n",
    "importlib.reload(functions) \n",
    "\n",
    "from functions import *"
   ]
  },
  {
   "cell_type": "code",
   "execution_count": 118,
   "metadata": {},
   "outputs": [
    {
     "name": "stdout",
     "output_type": "stream",
     "text": [
      "Pakistan\n"
     ]
    }
   ],
   "source": [
    "#Getting country name\n",
    "name=get_country_name(driver)\n",
    "print(name.text)\n"
   ]
  },
  {
   "cell_type": "code",
   "execution_count": 119,
   "metadata": {},
   "outputs": [
    {
     "name": "stdout",
     "output_type": "stream",
     "text": [
      "235 824 858 (2022)\n"
     ]
    }
   ],
   "source": [
    "#Population\n",
    "population_count= get_population_count(driver)\n",
    "print(population_count.text)"
   ]
  },
  {
   "cell_type": "code",
   "execution_count": 120,
   "metadata": {},
   "outputs": [
    {
     "name": "stdout",
     "output_type": "stream",
     "text": [
      "2.91 (2021)\n"
     ]
    }
   ],
   "source": [
    "#Expenditure\n",
    "expenditure= get_current_health_expenditure(driver)\n",
    "print(expenditure.text)"
   ]
  },
  {
   "cell_type": "code",
   "execution_count": 121,
   "metadata": {},
   "outputs": [
    {
     "name": "stdout",
     "output_type": "stream",
     "text": [
      "Eastern Mediterranean\n"
     ]
    }
   ],
   "source": [
    "#region_name=get_who_region(driver)\n",
    "region_name=get_who_region(driver)\n",
    "print(region_name.text)\n"
   ]
  },
  {
   "cell_type": "code",
   "execution_count": 122,
   "metadata": {},
   "outputs": [
    {
     "name": "stdout",
     "output_type": "stream",
     "text": [
      "Lower-middle income (LMC)\n"
     ]
    }
   ],
   "source": [
    "# get_world_bank_income_level(driver)\n",
    "income_level=get_world_bank_income_level(driver)\n",
    "print(income_level.text)\n"
   ]
  },
  {
   "cell_type": "code",
   "execution_count": 124,
   "metadata": {},
   "outputs": [
    {
     "name": "stdout",
     "output_type": "stream",
     "text": [
      "1.9%\n"
     ]
    }
   ],
   "source": [
    "\n",
    "# get_population_growth_rate(driver)\n",
    "\n",
    "growth_rate=get_population_growth_rate(driver)\n",
    "print(growth_rate)\n"
   ]
  },
  {
   "cell_type": "code",
   "execution_count": 125,
   "metadata": {},
   "outputs": [
    {
     "name": "stdout",
     "output_type": "stream",
     "text": [
      "None\n"
     ]
    }
   ],
   "source": [
    "# getting hiv infections\n",
    "\n",
    "infection=HIV_infections(driver)\n",
    "print(infection)\n"
   ]
  },
  {
   "cell_type": "code",
   "execution_count": 127,
   "metadata": {},
   "outputs": [
    {
     "name": "stdout",
     "output_type": "stream",
     "text": [
      "258\n"
     ]
    }
   ],
   "source": [
    "# People living with tuberculosis (TB)\n",
    "\n",
    "TB=TB_infections(driver)\n",
    "print(TB)\n"
   ]
  },
  {
   "cell_type": "code",
   "execution_count": 129,
   "metadata": {},
   "outputs": [
    {
     "name": "stdout",
     "output_type": "stream",
     "text": [
      "2.22\n"
     ]
    }
   ],
   "source": [
    "# Malaria cases\n",
    "\n",
    "Malaria=Malaria_cases(driver)\n",
    "print(Malaria)\n"
   ]
  },
  {
   "cell_type": "code",
   "execution_count": 131,
   "metadata": {},
   "outputs": [
    {
     "name": "stdout",
     "output_type": "stream",
     "text": [
      "29%\n"
     ]
    }
   ],
   "source": [
    "#Probability of dying from non-communicable diseases\n",
    "Non_comm_disease=N_com(driver)\n",
    "print(Non_comm_disease)"
   ]
  },
  {
   "cell_type": "code",
   "execution_count": 132,
   "metadata": {},
   "outputs": [
    {
     "name": "stdout",
     "output_type": "stream",
     "text": [
      "11.9\n"
     ]
    }
   ],
   "source": [
    "#Road traffic deaths\n",
    "Road_deaths=t_deaths(driver)\n",
    "print(Road_deaths)"
   ]
  },
  {
   "cell_type": "code",
   "execution_count": 133,
   "metadata": {},
   "outputs": [
    {
     "name": "stdout",
     "output_type": "stream",
     "text": [
      "8.93\n"
     ]
    }
   ],
   "source": [
    "#Sucides\n",
    "Sucide_deaths=s_deaths(driver)\n",
    "print(Sucide_deaths)"
   ]
  },
  {
   "cell_type": "code",
   "execution_count": 134,
   "metadata": {},
   "outputs": [],
   "source": [
    "button = driver.find_element(By.XPATH, '//*[@id=\"tab-risk-factors-section\"]')\n",
    "button.click()\n"
   ]
  },
  {
   "cell_type": "code",
   "execution_count": 135,
   "metadata": {},
   "outputs": [
    {
     "name": "stdout",
     "output_type": "stream",
     "text": [
      "43.2%\n"
     ]
    }
   ],
   "source": [
    "#Prevalence of hypertension\n",
    "Prevalence_of_hypertension=p_deaths(driver)\n",
    "print(Prevalence_of_hypertension)"
   ]
  },
  {
   "cell_type": "code",
   "execution_count": 136,
   "metadata": {},
   "outputs": [
    {
     "name": "stdout",
     "output_type": "stream",
     "text": [
      "23%\n"
     ]
    }
   ],
   "source": [
    "#Adult obesity\n",
    "Adult_obesity=adult_obs(driver)\n",
    "print(Adult_obesity)"
   ]
  },
  {
   "cell_type": "code",
   "execution_count": 137,
   "metadata": {},
   "outputs": [
    {
     "name": "stdout",
     "output_type": "stream",
     "text": [
      "20%\n"
     ]
    }
   ],
   "source": [
    "#tobaco use\n",
    "tobaco_usage=tobaco_use(driver)\n",
    "print(tobaco_usage)"
   ]
  },
  {
   "cell_type": "code",
   "execution_count": 138,
   "metadata": {},
   "outputs": [
    {
     "name": "stdout",
     "output_type": "stream",
     "text": [
      "0.1\n"
     ]
    }
   ],
   "source": [
    "#Alcohol consumption\n",
    "Alcohol_consumption=Alcohol_con(driver)\n",
    "print(Alcohol_consumption)"
   ]
  },
  {
   "cell_type": "code",
   "execution_count": 159,
   "metadata": {},
   "outputs": [
    {
     "data": {
      "text/plain": [
       "[('2000', '154m'),\n",
       " ('2001', '159m'),\n",
       " ('2002', '163m'),\n",
       " ('2003', '167m'),\n",
       " ('2004', '171m'),\n",
       " ('2005', '174m'),\n",
       " ('2006', '178m'),\n",
       " ('2007', '182m'),\n",
       " ('2008', '186m'),\n",
       " ('2009', '190m'),\n",
       " ('2010', '194m'),\n",
       " ('2011', '199m'),\n",
       " ('2012', '202m'),\n",
       " ('2013', '205m'),\n",
       " ('2014', '208m'),\n",
       " ('2015', '211m'),\n",
       " ('2016', '214m'),\n",
       " ('2017', '216m'),\n",
       " ('2018', '220m'),\n",
       " ('2019', '223m'),\n",
       " ('2020', '227m'),\n",
       " ('2021', '231m'),\n",
       " ('2022', '236m'),\n",
       " ('2023', '240m (projected)'),\n",
       " ('2024', '245m (projected)')]"
      ]
     },
     "execution_count": 159,
     "metadata": {},
     "output_type": "execute_result"
    }
   ],
   "source": [
    "# get_population_data(driver)\n",
    "data_list=[]\n",
    "data_list=get_population_data(driver)\n",
    "data_list=data_list[:25]\n",
    "data_list"
   ]
  },
  {
   "cell_type": "code",
   "execution_count": 155,
   "metadata": {},
   "outputs": [],
   "source": [
    "button = driver.find_element(By.XPATH, '//*[@id=\"tab-life-expectancy-section\"]')\n",
    "button.click()"
   ]
  },
  {
   "cell_type": "code",
   "execution_count": 156,
   "metadata": {},
   "outputs": [
    {
     "name": "stdout",
     "output_type": "stream",
     "text": [
      "Getting life expectancy data...\n",
      "_______________________________\n",
      "None Female\n",
      "2000 61\n",
      "2010 63.9\n",
      "2015 65.4\n",
      "2019 66.7\n",
      "2021 66.9\n",
      "_______________________________\n",
      "None Male\n",
      "2000 59.3\n",
      "2010 61.5\n",
      "2015 63.1\n",
      "2019 64.6\n",
      "2021 65.1\n",
      "_______________________________\n",
      "None Total\n",
      "2000 60.1\n",
      "2010 62.6\n",
      "2015 64.2\n",
      "2019 65.6\n",
      "2021 66\n",
      "_______________________________\n",
      "Getting life expectancy data...\n",
      "_______________________________\n",
      "None Female\n",
      "2000 61\n",
      "2010 63.9\n",
      "2015 65.4\n",
      "2019 66.7\n",
      "2021 66.9\n",
      "_______________________________\n",
      "None Male\n",
      "2000 59.3\n",
      "2010 61.5\n",
      "2015 63.1\n",
      "2019 64.6\n",
      "2021 65.1\n",
      "_______________________________\n",
      "None Total\n",
      "2000 60.1\n",
      "2010 62.6\n",
      "2015 64.2\n",
      "2019 65.6\n",
      "2021 66\n",
      "_______________________________\n"
     ]
    }
   ],
   "source": [
    "get_life_expentency_data(driver)\n",
    "data_list=[]\n",
    "data_list=get_life_expentency_data(driver)\n",
    "data_list\n"
   ]
  },
  {
   "cell_type": "code",
   "execution_count": 157,
   "metadata": {},
   "outputs": [],
   "source": [
    "button = driver.find_element(By.XPATH, '//*[@id=\"tab-healthy-life-expectancy-section\"]')\n",
    "button.click()"
   ]
  },
  {
   "cell_type": "code",
   "execution_count": 158,
   "metadata": {},
   "outputs": [
    {
     "name": "stdout",
     "output_type": "stream",
     "text": [
      "Getting  health life expectancy data...\n",
      "_______________________________\n",
      "None Female\n",
      "2000 52.1\n",
      "2010 54.5\n",
      "2015 55.8\n",
      "2019 56.8\n",
      "2021 56.7\n",
      "_______________________________\n",
      "None Male\n",
      "2000 52.6\n",
      "2010 54.4\n",
      "2015 55.8\n",
      "2019 56.9\n",
      "2021 57.1\n",
      "_______________________________\n",
      "None Total\n",
      "2000 52.3\n",
      "2010 54.5\n",
      "2015 55.8\n",
      "2019 56.9\n",
      "2021 56.9\n",
      "_______________________________\n"
     ]
    }
   ],
   "source": [
    "# get_health_life_expectancy_data(driver)\n",
    "data_list=[]\n",
    "data_list=get_health_life_expectancy_data(driver)\n",
    "data_list"
   ]
  },
  {
   "cell_type": "code",
   "execution_count": 59,
   "metadata": {},
   "outputs": [],
   "source": [
    "\n",
    "\n",
    "\n",
    "#Renderig error on these\n",
    "\n",
    "# get_leading_cause_of_death(driver)\n",
    "\n",
    "# get_leading_cause_of_death(driver)\n",
    "\n",
    "# get_leading_cause_of_under_5_mortality(driver)\n",
    "\n",
    "\n"
   ]
  },
  {
   "cell_type": "markdown",
   "metadata": {},
   "source": [
    "## SHAHZAD\n",
    "\n",
    "**Things to do**\n",
    "\n",
    "\n",
    "- 3 two functions to extract **visit indicator** links for following categories (divide them in group A and B)\n",
    "   - 3.1 Number of new HIV infections\n",
    "   - 3.2 People living with tuberculosis (TB)\n",
    "   - 3.3 Malaria cases\n",
    "   - 3.4 Probability of dying from non-communicable diseases\n",
    "   - 3.5 Road traffic deaths\n",
    "   - 3.6 Suicide deaths\n",
    "   - 3.7 Prevalence of hypertension\n",
    "   - 3.8 Adult obesity\n",
    "   - 3.9 Tobacco use\n",
    "   - 3.10 Alcohol consumption\n",
    "   - 3.11 Safely managed sanitation\n",
    "   - 3.12 Fine particulate matter\n",
    "   - 3.13 UHC index score\n",
    "   - 3.14 Births attended by skilled health personnel\n",
    "   - 3.15 Family planning\n",
    "   - 3.16 DTP3 immunization\n",
    "   - 3.17 MCV2 immunization\n",
    "   - 3.18 Interventions against NTDs\n",
    "   - 3.19 Density of doctors\n",
    "   - 3.20 Density of nurses\n",
    "   - 3.21 Density of pharmacists\n",
    "   - 3.22 Density of dentists\n",
    "   - 3.23 WASH development assistance\n",
    "   - 3.24 Financial hardship\n",
    "- 4 A general function to extract visit indicators of this kind of pages (https://data.who.int/indicators/i/49AC786/77D059C?m49=004)\n",
    "   - 4.1 return 24 rows with two columns year and count.\n",
    "- 5 a general function to extract the other kind of function\n",
    "   - 5.1 get 23-24 years data from line graph displayed on indicator page (example https://data.who.int/indicators/i/CCCEBB2/217795A?m49=004)"
   ]
  },
  {
   "cell_type": "code",
<<<<<<< HEAD
   "execution_count": null,
   "metadata": {},
   "outputs": [],
   "source": []
  },
  {
   "cell_type": "code",
   "execution_count": 7,
   "metadata": {},
   "outputs": [
    {
     "name": "stdout",
     "output_type": "stream",
     "text": [
      "Button:  Health status\n",
      "\n",
      "Header Matched:  Number of new HIV infections\n",
      "Added Link:  https://data.who.int/indicators/i/49AC786/77D059C?m49=004\n",
      "Skipped Header: People living with tuberculosis (TB)\n",
      "Skipped Header: Malaria cases\n",
      "\n",
      "Header Matched:  Probability of dying from non-communicable diseases\n",
      "Added Link:  https://data.who.int/indicators/i/C540135/1F96863?m49=004\n",
      "Skipped Header: Road traffic deaths\n",
      "\n",
      "Header Matched:  Suicide deaths\n",
      "Added Link:  https://data.who.int/indicators/i/F08B4FD/16BBF41?m49=004\n",
      "-----------------\n",
      "Button:  Risk factors\n",
      "\n",
      "Header Matched:  Prevalence of hypertension\n",
      "Added Link:  https://data.who.int/indicators/i/7DA4E68/608DE39?m49=004\n",
      "\n",
      "Header Matched:  Adult obesity\n",
      "Added Link:  https://data.who.int/indicators/i/C6262EC/BEFA58B?m49=004\n",
      "\n",
      "Header Matched:  Tobacco use\n",
      "Added Link:  https://data.who.int/indicators/i/847662C/75DDA77?m49=004\n",
      "\n",
      "Header Matched:  Alcohol consumption\n",
      "Added Link:  https://data.who.int/indicators/i/EF38E6A/EE6F72A?m49=004\n",
      "\n",
      "Header Matched:  Safely managed sanitation\n",
      "Added Link:  https://data.who.int/indicators/i/4CDFDDA/12EE54A?m49=004\n",
      "\n",
      "Header Matched:  Fine particulate matter\n",
      "Added Link:  https://data.who.int/indicators/i/87345F3/F810947?m49=004\n",
      "-----------------\n",
      "Button:  Service coverage\n",
      "Skipped Header: UHC index score\n",
      "Skipped Header: Births attended by skilled health personnel\n",
      "Skipped Header: Family planning\n",
      "Skipped Header: DTP3 immunization\n",
      "Skipped Header: MCV2 immunization\n",
      "Skipped Header: Interventions against NTDs\n",
      "-----------------\n",
      "Button:  Health systems\n",
      "Skipped Header: Density of doctors\n",
      "Skipped Header: Density of nurses\n",
      "Skipped Header: Density of pharmacists\n",
      "Skipped Header: Density of dentists\n",
      "Skipped Header: WASH development assistance\n",
      "\n",
      "Header Matched:  Financial hardship\n",
      "Added Link:  https://data.who.int/indicators/i/B6D043E/A65146D?m49=004\n",
      "-----------------\n"
     ]
    }
   ],
=======
   "execution_count": 60,
   "metadata": {},
   "outputs": [],
   "source": [
    "# get_group_A_indicators(driver)\n",
    "\n",
    "# get_group_B_indicators(driver)\n",
    "\n",
    "\n",
    "# get_indicator_data_for_group_A(driver)\n",
    "# group A example https://data.who.int/indicators/i/49AC786/77D059C?m49=004\n",
    "\n",
    "\n",
    "# get_indicator_data_for_group_ B(driver)\n",
    "# group B example https://data.who.int/indicators/i/CCCEBB2/217795A?m49=004"
   ]
  },
  {
   "cell_type": "code",
   "execution_count": null,
   "metadata": {},
   "outputs": [],
   "source": [
    "# Find all the buttons using the given XPath\n",
    "buttons = driver.find_elements(By.XPATH, \"/html/body/div[5]/main/section/div/div[9]/div/div/div/div/ul\")\n",
    "\n",
    "# Iterate through the list of buttons and click each one\n",
    "for button in buttons:\n",
    "    try:\n",
    "        button.click()  # Click the button\n",
    "        print(f\"Button clicked: {button.text}\")  # Print the button's text after clicking\n",
    "    except Exception as e:\n",
    "        print(f\"Error clicking button: {button.text}, Error: {e}\")"
   ]
  },
  {
   "cell_type": "code",
   "execution_count": null,
   "metadata": {},
   "outputs": [],
>>>>>>> 1294949038462e93bc9938565c886f948a098a01
   "source": [
    "import importlib\n",
    "import functions\n",
    "\n",
    "importlib.reload(functions) \n",
    "\n",
    "from functions import *\n",
<<<<<<< HEAD
    "\n",
    "group_A_indidcator=get_group_A_indicators(driver)"
=======
    "l=get_group_A_indicators(driver)\n"
>>>>>>> 1294949038462e93bc9938565c886f948a098a01
   ]
  },
  {
   "cell_type": "code",
<<<<<<< HEAD
   "execution_count": 8,
   "metadata": {},
   "outputs": [
    {
     "name": "stdout",
     "output_type": "stream",
     "text": [
      "Button:  Health status\n",
      "Skipped Header: Number of new HIV infections\n",
      "\n",
      "Header Matched:  People living with tuberculosis (TB)\n",
      "Added Link:  https://data.who.int/indicators/i/13B4226/C288D13?m49=004\n",
      "\n",
      "Header Matched:  Malaria cases\n",
      "Added Link:  https://data.who.int/indicators/i/B868307/442CEA8?m49=004\n",
      "Skipped Header: Probability of dying from non-communicable diseases\n",
      "\n",
      "Header Matched:  Road traffic deaths\n",
      "Added Link:  https://data.who.int/indicators/i/B9D9E6A/D6176E2?m49=004\n",
      "Skipped Header: Suicide deaths\n",
      "-----------------\n",
      "Button:  Risk factors\n",
      "Skipped Header: Prevalence of hypertension\n",
      "Skipped Header: Adult obesity\n",
      "Skipped Header: Tobacco use\n",
      "Skipped Header: Alcohol consumption\n",
      "Skipped Header: Safely managed sanitation\n",
      "Skipped Header: Fine particulate matter\n",
      "-----------------\n",
      "Button:  Service coverage\n",
      "\n",
      "Header Matched:  UHC index score\n",
      "Added Link:  https://data.who.int/indicators/i/3805B1E/9A706FD?m49=004\n",
      "\n",
      "Header Matched:  Births attended by skilled health personnel\n",
      "Added Link:  https://data.who.int/indicators/i/F835E3B/1772666?m49=004\n",
      "\n",
      "Header Matched:  Family planning\n",
      "Added Link:  https://data.who.int/indicators/i/F2772F7/8074BD9?m49=004\n",
      "\n",
      "Header Matched:  DTP3 immunization\n",
      "Added Link:  https://data.who.int/indicators/i/48D7D19/F8E084C?m49=004\n",
      "\n",
      "Header Matched:  MCV2 immunization\n",
      "Added Link:  https://data.who.int/indicators/i/B17F8BC/BB4567B?m49=004\n",
      "\n",
      "Header Matched:  Interventions against NTDs\n",
      "Added Link:  https://data.who.int/indicators/i/95935F3/2D6FBE4?m49=004\n",
      "-----------------\n",
      "Button:  Health systems\n",
      "\n",
      "Header Matched:  Density of doctors\n",
      "Added Link:  https://data.who.int/indicators/i/CCCEBB2/217795A?m49=004\n",
      "\n",
      "Header Matched:  Density of nurses\n",
      "Added Link:  https://data.who.int/indicators/i/B54EB15/5C8435F?m49=004\n",
      "\n",
      "Header Matched:  Density of pharmacists\n",
      "Added Link:  https://data.who.int/indicators/i/C668579/45CA7C8?m49=004\n",
      "\n",
      "Header Matched:  Density of dentists\n",
      "Added Link:  https://data.who.int/indicators/i/C25EFD6/9F88C44?m49=004\n",
      "\n",
      "Header Matched:  WASH development assistance\n",
      "Added Link:  https://data.who.int/indicators/i/21A69FA/4AF995F?m49=004\n",
      "Skipped Header: Financial hardship\n",
      "-----------------\n"
     ]
    }
   ],
   "source": [
    "import importlib\n",
    "import functions\n",
    "\n",
    "importlib.reload(functions) \n",
    "\n",
    "from functions import *\n",
    "group_B_indidcator=get_group_B_indicators(driver)"
   ]
  },
  {
   "cell_type": "code",
   "execution_count": null,
   "metadata": {},
   "outputs": [],
   "source": []
  },
  {
   "cell_type": "code",
   "execution_count": 9,
   "metadata": {},
   "outputs": [],
   "source": [
    "open_page(driver, BASE_LINK)"
   ]
  },
  {
   "cell_type": "code",
   "execution_count": 13,
   "metadata": {},
   "outputs": [
    {
     "name": "stdout",
     "output_type": "stream",
     "text": [
      "Starting to fetch\n",
      "Selected: 1990\n",
      "0\n",
      "Selected: 1991\n",
      "0\n",
      "Selected: 1992\n",
      "0\n",
      "Selected: 1993\n",
      "0\n",
      "Selected: 1994\n",
      "0\n",
      "Selected: 1995\n",
      "0\n",
      "Selected: 1996\n",
      "0\n",
      "Selected: 1997\n",
      "0\n",
      "Selected: 1998\n",
      "0\n",
      "Selected: 1999\n",
      "0\n",
      "Selected: 2000\n",
      "0\n",
      "Selected: 2001\n",
      "0\n",
      "Selected: 2002\n",
      "0\n",
      "Selected: 2003\n",
      "0\n",
      "Selected: 2004\n",
      "0\n",
      "Selected: 2005\n",
      "0\n",
      "Selected: 2006\n",
      "0\n",
      "Selected: 2007\n",
      "0\n",
      "Selected: 2008\n",
      "0\n",
      "Selected: 2009\n",
      "0\n",
      "Selected: 2010\n",
      "0\n",
      "Selected: 2011\n",
      "0\n",
      "Selected: 2012\n",
      "0\n",
      "Selected: 2013\n",
      "0\n",
      "Selected: 2014\n",
      "0\n",
      "Selected: 2015\n",
      "0\n",
      "Selected: 2016\n",
      "0\n",
      "Selected: 2017\n",
      "0\n",
      "Selected: 2018\n",
      "0\n",
      "Selected: 2019\n",
      "0\n",
      "Selected: 2020\n",
      "0\n",
      "Selected: 2021\n",
      "0\n",
      "Selected: 2022\n",
      "0\n",
      "Selected: 2000\n",
      "35%\n",
      "Selected: 2001\n",
      "35%\n",
      "Selected: 2002\n",
      "35%\n",
      "Selected: 2003\n",
      "35%\n",
      "Selected: 2004\n",
      "35%\n",
      "Selected: 2005\n",
      "41%\n",
      "Selected: 2006\n",
      "41%\n",
      "Selected: 2007\n",
      "40%\n",
      "Selected: 2008\n",
      "39%\n",
      "Selected: 2009\n",
      "38%\n",
      "Selected: 2010\n",
      "38%\n",
      "Selected: 2011\n",
      "37%\n",
      "Selected: 2012\n",
      "37%\n",
      "Selected: 2013\n",
      "36%\n",
      "Selected: 2014\n",
      "36%\n",
      "Selected: 2015\n",
      "36%\n",
      "Selected: 2016\n",
      "36%\n",
      "Selected: 2017\n",
      "35%\n",
      "Selected: 2018\n",
      "35%\n",
      "Selected: 2019\n",
      "35%\n",
      "Selected: 2000\n",
      "4.1\n",
      "Selected: 2001\n",
      "4.9\n",
      "Selected: 2002\n",
      "5\n",
      "Selected: 2003\n",
      "5\n",
      "Selected: 2004\n",
      "5\n",
      "Selected: 2005\n",
      "5\n",
      "Selected: 2006\n",
      "5\n",
      "Selected: 2007\n",
      "5\n",
      "Selected: 2008\n",
      "5\n",
      "Selected: 2009\n",
      "4.6\n",
      "Selected: 2010\n",
      "4.4\n",
      "Selected: 2011\n",
      "4.4\n",
      "Selected: 2012\n",
      "4.4\n",
      "Selected: 2013\n",
      "4.4\n",
      "Selected: 2014\n",
      "4.4\n",
      "Selected: 2015\n",
      "3.9\n",
      "Selected: 2016\n",
      "4\n",
      "Selected: 2017\n",
      "4\n",
      "Selected: 2018\n",
      "4\n",
      "Selected: 2019\n",
      "4.1\n"
     ]
    },
    {
     "ename": "NoSuchElementException",
     "evalue": "Message: no such element: Unable to locate element: {\"method\":\"xpath\",\"selector\":\"/html/body/main/section/div[2]/div[3]/div[1]/div[1]/div/div/div/div/div/div/div[1]/div[2]/div/div[2]/label/span[2]\"}\n  (Session info: MicrosoftEdge=129.0.2792.65); For documentation on this error, please visit: https://www.selenium.dev/documentation/webdriver/troubleshooting/errors#no-such-element-exception\nStacktrace:\n\tGetHandleVerifier [0x00007FF6C50ECF25+12997]\n\tMicrosoft::Applications::Events::EventProperty::empty [0x00007FF6C536BCE4+1897876]\n\t(No symbol) [0x00007FF6C4E9F1CC]\n\t(No symbol) [0x00007FF6C4EE672E]\n\t(No symbol) [0x00007FF6C4EE67B5]\n\t(No symbol) [0x00007FF6C4F24ED7]\n\t(No symbol) [0x00007FF6C4F07F8F]\n\t(No symbol) [0x00007FF6C4EDC09D]\n\t(No symbol) [0x00007FF6C4F22887]\n\t(No symbol) [0x00007FF6C4F07BB3]\n\t(No symbol) [0x00007FF6C4EDB5AC]\n\t(No symbol) [0x00007FF6C4EDAA8D]\n\t(No symbol) [0x00007FF6C4EDB171]\n\tMicrosoft::Applications::Events::EventProperty::empty [0x00007FF6C5299E34+1038052]\n\tMicrosoft::Applications::Events::EventProperty::~EventProperty [0x00007FF6C501095F+56655]\n\tMicrosoft::Applications::Events::EventProperty::~EventProperty [0x00007FF6C5003103+1267]\n\tMicrosoft::Applications::Events::EventProperty::empty [0x00007FF6C5298BBD+1033325]\n\tMicrosoft::Applications::Events::ILogConfiguration::operator* [0x00007FF6C5089791+327745]\n\tMicrosoft::Applications::Events::ILogConfiguration::operator* [0x00007FF6C5085C14+312516]\n\tMicrosoft::Applications::Events::ILogConfiguration::operator* [0x00007FF6C5085D49+312825]\n\tMicrosoft::Applications::Events::ILogConfiguration::operator* [0x00007FF6C507C2BC+273260]\n\tBaseThreadInitThunk [0x00007FF863897374+20]\n\tRtlUserThreadStart [0x00007FF86551CC91+33]\n",
     "output_type": "error",
     "traceback": [
      "\u001b[1;31m---------------------------------------------------------------------------\u001b[0m",
      "\u001b[1;31mNoSuchElementException\u001b[0m                    Traceback (most recent call last)",
      "Cell \u001b[1;32mIn[13], line 8\u001b[0m\n\u001b[0;32m      4\u001b[0m importlib\u001b[38;5;241m.\u001b[39mreload(functions) \n\u001b[0;32m      7\u001b[0m \u001b[38;5;28;01mfrom\u001b[39;00m \u001b[38;5;21;01mfunctions\u001b[39;00m \u001b[38;5;28;01mimport\u001b[39;00m \u001b[38;5;241m*\u001b[39m\n\u001b[1;32m----> 8\u001b[0m data_A\u001b[38;5;241m=\u001b[39m\u001b[43mget_indicator_data_for_group_A\u001b[49m\u001b[43m(\u001b[49m\u001b[43mdriver\u001b[49m\u001b[43m,\u001b[49m\u001b[43mgroup_A_indidcator\u001b[49m\u001b[43m)\u001b[49m\n",
      "File \u001b[1;32mc:\\Users\\Hp\\Desktop\\health_care_ML_project\\scraping\\functions.py:208\u001b[0m, in \u001b[0;36mget_indicator_data_for_group_A\u001b[1;34m(driver, url)\u001b[0m\n\u001b[0;32m    203\u001b[0m \u001b[38;5;28;01mfor\u001b[39;00m i \u001b[38;5;129;01min\u001b[39;00m url:\n\u001b[0;32m    204\u001b[0m  open_page(driver,i) \n\u001b[1;32m--> 208\u001b[0m  b\u001b[38;5;241m=\u001b[39m\u001b[43mdriver\u001b[49m\u001b[38;5;241;43m.\u001b[39;49m\u001b[43mfind_element\u001b[49m\u001b[43m(\u001b[49m\u001b[43mBy\u001b[49m\u001b[38;5;241;43m.\u001b[39;49m\u001b[43mXPATH\u001b[49m\u001b[43m,\u001b[49m\u001b[43m \u001b[49m\u001b[38;5;124;43m'\u001b[39;49m\u001b[38;5;124;43m/html/body/main/section/div[2]/div[3]/div[1]/div[1]/div/div/div/div/div/div/div[1]/div[2]/div/div[2]/label/span[2]\u001b[39;49m\u001b[38;5;124;43m'\u001b[39;49m\u001b[43m)\u001b[49m\n\u001b[0;32m    209\u001b[0m  b\u001b[38;5;241m.\u001b[39mclick()\n\u001b[0;32m    211\u001b[0m  options \u001b[38;5;241m=\u001b[39m b\u001b[38;5;241m.\u001b[39mfind_elements(By\u001b[38;5;241m.\u001b[39mCSS_SELECTOR, \u001b[38;5;124m'\u001b[39m\u001b[38;5;124moption\u001b[39m\u001b[38;5;124m'\u001b[39m)  \n",
      "File \u001b[1;32mc:\\Users\\Hp\\Desktop\\health_care_ML_project\\env\\Lib\\site-packages\\selenium\\webdriver\\remote\\webdriver.py:748\u001b[0m, in \u001b[0;36mWebDriver.find_element\u001b[1;34m(self, by, value)\u001b[0m\n\u001b[0;32m    745\u001b[0m     by \u001b[38;5;241m=\u001b[39m By\u001b[38;5;241m.\u001b[39mCSS_SELECTOR\n\u001b[0;32m    746\u001b[0m     value \u001b[38;5;241m=\u001b[39m \u001b[38;5;124mf\u001b[39m\u001b[38;5;124m'\u001b[39m\u001b[38;5;124m[name=\u001b[39m\u001b[38;5;124m\"\u001b[39m\u001b[38;5;132;01m{\u001b[39;00mvalue\u001b[38;5;132;01m}\u001b[39;00m\u001b[38;5;124m\"\u001b[39m\u001b[38;5;124m]\u001b[39m\u001b[38;5;124m'\u001b[39m\n\u001b[1;32m--> 748\u001b[0m \u001b[38;5;28;01mreturn\u001b[39;00m \u001b[38;5;28;43mself\u001b[39;49m\u001b[38;5;241;43m.\u001b[39;49m\u001b[43mexecute\u001b[49m\u001b[43m(\u001b[49m\u001b[43mCommand\u001b[49m\u001b[38;5;241;43m.\u001b[39;49m\u001b[43mFIND_ELEMENT\u001b[49m\u001b[43m,\u001b[49m\u001b[43m \u001b[49m\u001b[43m{\u001b[49m\u001b[38;5;124;43m\"\u001b[39;49m\u001b[38;5;124;43musing\u001b[39;49m\u001b[38;5;124;43m\"\u001b[39;49m\u001b[43m:\u001b[49m\u001b[43m \u001b[49m\u001b[43mby\u001b[49m\u001b[43m,\u001b[49m\u001b[43m \u001b[49m\u001b[38;5;124;43m\"\u001b[39;49m\u001b[38;5;124;43mvalue\u001b[39;49m\u001b[38;5;124;43m\"\u001b[39;49m\u001b[43m:\u001b[49m\u001b[43m \u001b[49m\u001b[43mvalue\u001b[49m\u001b[43m}\u001b[49m\u001b[43m)\u001b[49m[\u001b[38;5;124m\"\u001b[39m\u001b[38;5;124mvalue\u001b[39m\u001b[38;5;124m\"\u001b[39m]\n",
      "File \u001b[1;32mc:\\Users\\Hp\\Desktop\\health_care_ML_project\\env\\Lib\\site-packages\\selenium\\webdriver\\remote\\webdriver.py:354\u001b[0m, in \u001b[0;36mWebDriver.execute\u001b[1;34m(self, driver_command, params)\u001b[0m\n\u001b[0;32m    352\u001b[0m response \u001b[38;5;241m=\u001b[39m \u001b[38;5;28mself\u001b[39m\u001b[38;5;241m.\u001b[39mcommand_executor\u001b[38;5;241m.\u001b[39mexecute(driver_command, params)\n\u001b[0;32m    353\u001b[0m \u001b[38;5;28;01mif\u001b[39;00m response:\n\u001b[1;32m--> 354\u001b[0m     \u001b[38;5;28;43mself\u001b[39;49m\u001b[38;5;241;43m.\u001b[39;49m\u001b[43merror_handler\u001b[49m\u001b[38;5;241;43m.\u001b[39;49m\u001b[43mcheck_response\u001b[49m\u001b[43m(\u001b[49m\u001b[43mresponse\u001b[49m\u001b[43m)\u001b[49m\n\u001b[0;32m    355\u001b[0m     response[\u001b[38;5;124m\"\u001b[39m\u001b[38;5;124mvalue\u001b[39m\u001b[38;5;124m\"\u001b[39m] \u001b[38;5;241m=\u001b[39m \u001b[38;5;28mself\u001b[39m\u001b[38;5;241m.\u001b[39m_unwrap_value(response\u001b[38;5;241m.\u001b[39mget(\u001b[38;5;124m\"\u001b[39m\u001b[38;5;124mvalue\u001b[39m\u001b[38;5;124m\"\u001b[39m, \u001b[38;5;28;01mNone\u001b[39;00m))\n\u001b[0;32m    356\u001b[0m     \u001b[38;5;28;01mreturn\u001b[39;00m response\n",
      "File \u001b[1;32mc:\\Users\\Hp\\Desktop\\health_care_ML_project\\env\\Lib\\site-packages\\selenium\\webdriver\\remote\\errorhandler.py:229\u001b[0m, in \u001b[0;36mErrorHandler.check_response\u001b[1;34m(self, response)\u001b[0m\n\u001b[0;32m    227\u001b[0m         alert_text \u001b[38;5;241m=\u001b[39m value[\u001b[38;5;124m\"\u001b[39m\u001b[38;5;124malert\u001b[39m\u001b[38;5;124m\"\u001b[39m]\u001b[38;5;241m.\u001b[39mget(\u001b[38;5;124m\"\u001b[39m\u001b[38;5;124mtext\u001b[39m\u001b[38;5;124m\"\u001b[39m)\n\u001b[0;32m    228\u001b[0m     \u001b[38;5;28;01mraise\u001b[39;00m exception_class(message, screen, stacktrace, alert_text)  \u001b[38;5;66;03m# type: ignore[call-arg]  # mypy is not smart enough here\u001b[39;00m\n\u001b[1;32m--> 229\u001b[0m \u001b[38;5;28;01mraise\u001b[39;00m exception_class(message, screen, stacktrace)\n",
      "\u001b[1;31mNoSuchElementException\u001b[0m: Message: no such element: Unable to locate element: {\"method\":\"xpath\",\"selector\":\"/html/body/main/section/div[2]/div[3]/div[1]/div[1]/div/div/div/div/div/div/div[1]/div[2]/div/div[2]/label/span[2]\"}\n  (Session info: MicrosoftEdge=129.0.2792.65); For documentation on this error, please visit: https://www.selenium.dev/documentation/webdriver/troubleshooting/errors#no-such-element-exception\nStacktrace:\n\tGetHandleVerifier [0x00007FF6C50ECF25+12997]\n\tMicrosoft::Applications::Events::EventProperty::empty [0x00007FF6C536BCE4+1897876]\n\t(No symbol) [0x00007FF6C4E9F1CC]\n\t(No symbol) [0x00007FF6C4EE672E]\n\t(No symbol) [0x00007FF6C4EE67B5]\n\t(No symbol) [0x00007FF6C4F24ED7]\n\t(No symbol) [0x00007FF6C4F07F8F]\n\t(No symbol) [0x00007FF6C4EDC09D]\n\t(No symbol) [0x00007FF6C4F22887]\n\t(No symbol) [0x00007FF6C4F07BB3]\n\t(No symbol) [0x00007FF6C4EDB5AC]\n\t(No symbol) [0x00007FF6C4EDAA8D]\n\t(No symbol) [0x00007FF6C4EDB171]\n\tMicrosoft::Applications::Events::EventProperty::empty [0x00007FF6C5299E34+1038052]\n\tMicrosoft::Applications::Events::EventProperty::~EventProperty [0x00007FF6C501095F+56655]\n\tMicrosoft::Applications::Events::EventProperty::~EventProperty [0x00007FF6C5003103+1267]\n\tMicrosoft::Applications::Events::EventProperty::empty [0x00007FF6C5298BBD+1033325]\n\tMicrosoft::Applications::Events::ILogConfiguration::operator* [0x00007FF6C5089791+327745]\n\tMicrosoft::Applications::Events::ILogConfiguration::operator* [0x00007FF6C5085C14+312516]\n\tMicrosoft::Applications::Events::ILogConfiguration::operator* [0x00007FF6C5085D49+312825]\n\tMicrosoft::Applications::Events::ILogConfiguration::operator* [0x00007FF6C507C2BC+273260]\n\tBaseThreadInitThunk [0x00007FF863897374+20]\n\tRtlUserThreadStart [0x00007FF86551CC91+33]\n"
     ]
    }
   ],
   "source": [
    "import importlib\n",
    "import functions\n",
    "\n",
    "importlib.reload(functions) \n",
    "\n",
    "\n",
    "from functions import *\n",
    "data_A=get_indicator_data_for_group_A(driver,group_A_indidcator)"
   ]
  },
  {
   "cell_type": "code",
   "execution_count": 23,
   "metadata": {},
   "outputs": [],
   "source": [
    "for i in data_A:\n",
    "    print(i)"
   ]
  },
  {
   "cell_type": "code",
   "execution_count": 316,
   "metadata": {},
   "outputs": [
    {
     "name": "stdout",
     "output_type": "stream",
     "text": [
      "Starting to fetch\n"
     ]
    },
    {
     "ename": "NoSuchElementException",
     "evalue": "Message: no such element: Unable to locate element: {\"method\":\"xpath\",\"selector\":\"/html/body/main/section/div[2]/div[3]/div[1]/div[1]/div/div/div/div/div/div/div[2]/div[2]/div[2]/div[4]/div/div/table/tbody\"}\n  (Session info: MicrosoftEdge=129.0.2792.65); For documentation on this error, please visit: https://www.selenium.dev/documentation/webdriver/troubleshooting/errors#no-such-element-exception\nStacktrace:\n\tGetHandleVerifier [0x00007FF6C50ECF25+12997]\n\tMicrosoft::Applications::Events::EventProperty::empty [0x00007FF6C536BCE4+1897876]\n\t(No symbol) [0x00007FF6C4E9F1CC]\n\t(No symbol) [0x00007FF6C4EE672E]\n\t(No symbol) [0x00007FF6C4EE67B5]\n\t(No symbol) [0x00007FF6C4F24ED7]\n\t(No symbol) [0x00007FF6C4F07F8F]\n\t(No symbol) [0x00007FF6C4EDC09D]\n\t(No symbol) [0x00007FF6C4F22887]\n\t(No symbol) [0x00007FF6C4F07BB3]\n\t(No symbol) [0x00007FF6C4EDB5AC]\n\t(No symbol) [0x00007FF6C4EDAA8D]\n\t(No symbol) [0x00007FF6C4EDB171]\n\tMicrosoft::Applications::Events::EventProperty::empty [0x00007FF6C5299E34+1038052]\n\tMicrosoft::Applications::Events::EventProperty::~EventProperty [0x00007FF6C501095F+56655]\n\tMicrosoft::Applications::Events::EventProperty::~EventProperty [0x00007FF6C5003103+1267]\n\tMicrosoft::Applications::Events::EventProperty::empty [0x00007FF6C5298BBD+1033325]\n\tMicrosoft::Applications::Events::ILogConfiguration::operator* [0x00007FF6C5089791+327745]\n\tMicrosoft::Applications::Events::ILogConfiguration::operator* [0x00007FF6C5085C14+312516]\n\tMicrosoft::Applications::Events::ILogConfiguration::operator* [0x00007FF6C5085D49+312825]\n\tMicrosoft::Applications::Events::ILogConfiguration::operator* [0x00007FF6C507C2BC+273260]\n\tBaseThreadInitThunk [0x00007FF863897374+20]\n\tRtlUserThreadStart [0x00007FF86551CC91+33]\n",
     "output_type": "error",
     "traceback": [
      "\u001b[1;31m---------------------------------------------------------------------------\u001b[0m",
      "\u001b[1;31mNoSuchElementException\u001b[0m                    Traceback (most recent call last)",
      "Cell \u001b[1;32mIn[316], line 8\u001b[0m\n\u001b[0;32m      4\u001b[0m importlib\u001b[38;5;241m.\u001b[39mreload(functions) \n\u001b[0;32m      7\u001b[0m \u001b[38;5;28;01mfrom\u001b[39;00m \u001b[38;5;21;01mfunctions\u001b[39;00m \u001b[38;5;28;01mimport\u001b[39;00m \u001b[38;5;241m*\u001b[39m\n\u001b[1;32m----> 8\u001b[0m data_A\u001b[38;5;241m=\u001b[39m\u001b[43mget_indicator_data_for_group_B\u001b[49m\u001b[43m(\u001b[49m\u001b[43mdriver\u001b[49m\u001b[43m,\u001b[49m\u001b[43mgroup_B_indidcator\u001b[49m\u001b[43m)\u001b[49m\n",
      "File \u001b[1;32mc:\\Users\\Hp\\Desktop\\health_care_ML_project\\scraping\\functions.py:239\u001b[0m, in \u001b[0;36mget_indicator_data_for_group_B\u001b[1;34m(driver, url)\u001b[0m\n\u001b[0;32m    235\u001b[0m time\u001b[38;5;241m.\u001b[39msleep(\u001b[38;5;241m5\u001b[39m)  \n\u001b[0;32m    238\u001b[0m parent_xpath \u001b[38;5;241m=\u001b[39m \u001b[38;5;124m'\u001b[39m\u001b[38;5;124m/html/body/main/section/div[2]/div[3]/div[1]/div[1]/div/div/div/div/div/div/div[2]/div[2]/div[2]/div[4]/div/div/table/tbody\u001b[39m\u001b[38;5;124m'\u001b[39m\n\u001b[1;32m--> 239\u001b[0m parent_element \u001b[38;5;241m=\u001b[39m \u001b[43mdriver\u001b[49m\u001b[38;5;241;43m.\u001b[39;49m\u001b[43mfind_element\u001b[49m\u001b[43m(\u001b[49m\u001b[43mBy\u001b[49m\u001b[38;5;241;43m.\u001b[39;49m\u001b[43mXPATH\u001b[49m\u001b[43m,\u001b[49m\u001b[43m \u001b[49m\u001b[43mparent_xpath\u001b[49m\u001b[43m)\u001b[49m\n\u001b[0;32m    242\u001b[0m aria_pressed_elements \u001b[38;5;241m=\u001b[39m parent_element\u001b[38;5;241m.\u001b[39mfind_elements(By\u001b[38;5;241m.\u001b[39mXPATH, \u001b[38;5;124m'\u001b[39m\u001b[38;5;124m//use[@aria-pressed=\u001b[39m\u001b[38;5;124m\"\u001b[39m\u001b[38;5;124mtrue\u001b[39m\u001b[38;5;124m\"\u001b[39m\u001b[38;5;124m]\u001b[39m\u001b[38;5;124m'\u001b[39m)\n\u001b[0;32m    244\u001b[0m \u001b[38;5;66;03m# Step 4: Iterate through the matching elements to extract the aria-label\u001b[39;00m\n",
      "File \u001b[1;32mc:\\Users\\Hp\\Desktop\\health_care_ML_project\\env\\Lib\\site-packages\\selenium\\webdriver\\remote\\webdriver.py:748\u001b[0m, in \u001b[0;36mWebDriver.find_element\u001b[1;34m(self, by, value)\u001b[0m\n\u001b[0;32m    745\u001b[0m     by \u001b[38;5;241m=\u001b[39m By\u001b[38;5;241m.\u001b[39mCSS_SELECTOR\n\u001b[0;32m    746\u001b[0m     value \u001b[38;5;241m=\u001b[39m \u001b[38;5;124mf\u001b[39m\u001b[38;5;124m'\u001b[39m\u001b[38;5;124m[name=\u001b[39m\u001b[38;5;124m\"\u001b[39m\u001b[38;5;132;01m{\u001b[39;00mvalue\u001b[38;5;132;01m}\u001b[39;00m\u001b[38;5;124m\"\u001b[39m\u001b[38;5;124m]\u001b[39m\u001b[38;5;124m'\u001b[39m\n\u001b[1;32m--> 748\u001b[0m \u001b[38;5;28;01mreturn\u001b[39;00m \u001b[38;5;28;43mself\u001b[39;49m\u001b[38;5;241;43m.\u001b[39;49m\u001b[43mexecute\u001b[49m\u001b[43m(\u001b[49m\u001b[43mCommand\u001b[49m\u001b[38;5;241;43m.\u001b[39;49m\u001b[43mFIND_ELEMENT\u001b[49m\u001b[43m,\u001b[49m\u001b[43m \u001b[49m\u001b[43m{\u001b[49m\u001b[38;5;124;43m\"\u001b[39;49m\u001b[38;5;124;43musing\u001b[39;49m\u001b[38;5;124;43m\"\u001b[39;49m\u001b[43m:\u001b[49m\u001b[43m \u001b[49m\u001b[43mby\u001b[49m\u001b[43m,\u001b[49m\u001b[43m \u001b[49m\u001b[38;5;124;43m\"\u001b[39;49m\u001b[38;5;124;43mvalue\u001b[39;49m\u001b[38;5;124;43m\"\u001b[39;49m\u001b[43m:\u001b[49m\u001b[43m \u001b[49m\u001b[43mvalue\u001b[49m\u001b[43m}\u001b[49m\u001b[43m)\u001b[49m[\u001b[38;5;124m\"\u001b[39m\u001b[38;5;124mvalue\u001b[39m\u001b[38;5;124m\"\u001b[39m]\n",
      "File \u001b[1;32mc:\\Users\\Hp\\Desktop\\health_care_ML_project\\env\\Lib\\site-packages\\selenium\\webdriver\\remote\\webdriver.py:354\u001b[0m, in \u001b[0;36mWebDriver.execute\u001b[1;34m(self, driver_command, params)\u001b[0m\n\u001b[0;32m    352\u001b[0m response \u001b[38;5;241m=\u001b[39m \u001b[38;5;28mself\u001b[39m\u001b[38;5;241m.\u001b[39mcommand_executor\u001b[38;5;241m.\u001b[39mexecute(driver_command, params)\n\u001b[0;32m    353\u001b[0m \u001b[38;5;28;01mif\u001b[39;00m response:\n\u001b[1;32m--> 354\u001b[0m     \u001b[38;5;28;43mself\u001b[39;49m\u001b[38;5;241;43m.\u001b[39;49m\u001b[43merror_handler\u001b[49m\u001b[38;5;241;43m.\u001b[39;49m\u001b[43mcheck_response\u001b[49m\u001b[43m(\u001b[49m\u001b[43mresponse\u001b[49m\u001b[43m)\u001b[49m\n\u001b[0;32m    355\u001b[0m     response[\u001b[38;5;124m\"\u001b[39m\u001b[38;5;124mvalue\u001b[39m\u001b[38;5;124m\"\u001b[39m] \u001b[38;5;241m=\u001b[39m \u001b[38;5;28mself\u001b[39m\u001b[38;5;241m.\u001b[39m_unwrap_value(response\u001b[38;5;241m.\u001b[39mget(\u001b[38;5;124m\"\u001b[39m\u001b[38;5;124mvalue\u001b[39m\u001b[38;5;124m\"\u001b[39m, \u001b[38;5;28;01mNone\u001b[39;00m))\n\u001b[0;32m    356\u001b[0m     \u001b[38;5;28;01mreturn\u001b[39;00m response\n",
      "File \u001b[1;32mc:\\Users\\Hp\\Desktop\\health_care_ML_project\\env\\Lib\\site-packages\\selenium\\webdriver\\remote\\errorhandler.py:229\u001b[0m, in \u001b[0;36mErrorHandler.check_response\u001b[1;34m(self, response)\u001b[0m\n\u001b[0;32m    227\u001b[0m         alert_text \u001b[38;5;241m=\u001b[39m value[\u001b[38;5;124m\"\u001b[39m\u001b[38;5;124malert\u001b[39m\u001b[38;5;124m\"\u001b[39m]\u001b[38;5;241m.\u001b[39mget(\u001b[38;5;124m\"\u001b[39m\u001b[38;5;124mtext\u001b[39m\u001b[38;5;124m\"\u001b[39m)\n\u001b[0;32m    228\u001b[0m     \u001b[38;5;28;01mraise\u001b[39;00m exception_class(message, screen, stacktrace, alert_text)  \u001b[38;5;66;03m# type: ignore[call-arg]  # mypy is not smart enough here\u001b[39;00m\n\u001b[1;32m--> 229\u001b[0m \u001b[38;5;28;01mraise\u001b[39;00m exception_class(message, screen, stacktrace)\n",
      "\u001b[1;31mNoSuchElementException\u001b[0m: Message: no such element: Unable to locate element: {\"method\":\"xpath\",\"selector\":\"/html/body/main/section/div[2]/div[3]/div[1]/div[1]/div/div/div/div/div/div/div[2]/div[2]/div[2]/div[4]/div/div/table/tbody\"}\n  (Session info: MicrosoftEdge=129.0.2792.65); For documentation on this error, please visit: https://www.selenium.dev/documentation/webdriver/troubleshooting/errors#no-such-element-exception\nStacktrace:\n\tGetHandleVerifier [0x00007FF6C50ECF25+12997]\n\tMicrosoft::Applications::Events::EventProperty::empty [0x00007FF6C536BCE4+1897876]\n\t(No symbol) [0x00007FF6C4E9F1CC]\n\t(No symbol) [0x00007FF6C4EE672E]\n\t(No symbol) [0x00007FF6C4EE67B5]\n\t(No symbol) [0x00007FF6C4F24ED7]\n\t(No symbol) [0x00007FF6C4F07F8F]\n\t(No symbol) [0x00007FF6C4EDC09D]\n\t(No symbol) [0x00007FF6C4F22887]\n\t(No symbol) [0x00007FF6C4F07BB3]\n\t(No symbol) [0x00007FF6C4EDB5AC]\n\t(No symbol) [0x00007FF6C4EDAA8D]\n\t(No symbol) [0x00007FF6C4EDB171]\n\tMicrosoft::Applications::Events::EventProperty::empty [0x00007FF6C5299E34+1038052]\n\tMicrosoft::Applications::Events::EventProperty::~EventProperty [0x00007FF6C501095F+56655]\n\tMicrosoft::Applications::Events::EventProperty::~EventProperty [0x00007FF6C5003103+1267]\n\tMicrosoft::Applications::Events::EventProperty::empty [0x00007FF6C5298BBD+1033325]\n\tMicrosoft::Applications::Events::ILogConfiguration::operator* [0x00007FF6C5089791+327745]\n\tMicrosoft::Applications::Events::ILogConfiguration::operator* [0x00007FF6C5085C14+312516]\n\tMicrosoft::Applications::Events::ILogConfiguration::operator* [0x00007FF6C5085D49+312825]\n\tMicrosoft::Applications::Events::ILogConfiguration::operator* [0x00007FF6C507C2BC+273260]\n\tBaseThreadInitThunk [0x00007FF863897374+20]\n\tRtlUserThreadStart [0x00007FF86551CC91+33]\n"
     ]
    }
   ],
   "source": [
    "import importlib\n",
    "import functions\n",
    "\n",
    "importlib.reload(functions) \n",
    "\n",
    "\n",
    "from functions import *\n",
    "data_B=get_indicator_data_for_group_B(driver,group_B_indidcator)"
=======
   "execution_count": null,
   "metadata": {},
   "outputs": [],
   "source": [
    "group_A_links = get_group_A_indicators(driver)\n",
    "print(group_A_links)"
>>>>>>> 1294949038462e93bc9938565c886f948a098a01
   ]
  },
  {
   "cell_type": "code",
   "execution_count": null,
   "metadata": {},
   "outputs": [],
   "source": [
    "# get_group_A_indicators(driver)\n",
    "def get_group_A_indicators(driver):\n",
    "    url = \"https://data.who.int/indicators\" \n",
    "    open_page(driver,url)\n",
    "    \n",
    "    group_A_links = []\n",
    "\n",
    "    for i in range(1,25):\n",
    "        path=f\"/html/body/main/section/div[2]/div/div[1]/div[1]/div/div[1]\"\n",
    "        indicator=driver.find_element(By.XPATH,path).text.split(\"\\n\")\n",
    "        \n",
    "\n",
    "\n",
    "\n",
    "        \n",
    "\n",
    "    indicators = driver.find_elements(By.CSS_SELECTOR, '/html/body/main/section/div[2]/div/div[1]/div[1]/div/div[1]') \n",
    "    \n",
    "    for indicator in indicators:\n",
    "        link = indicator.get_attribute('href')\n",
    "        group_A_links.append(link)\n",
    "    \n",
    "    return group_A_links\n",
    "\n",
    "\n",
    "\n",
    "\n",
    "\n",
    "\n",
    "\n",
    "\n",
    "\n",
    "\n",
    "# get_group_B_indicators(driver)\n",
    "def get_group_B_indicators(driver):\n",
    "    url = \"https://data.who.int/indicators\"  \n",
    "    driver.get(url)\n",
    "    \n",
    "    \n",
    "    group_B_links = []\n",
    "    indicators = driver.find_elements(By.CSS_SELECTOR, '.indicator-link-group-B')\n",
    "    \n",
    "    for indicator in indicators:\n",
    "        link = indicator.get_attribute('href')\n",
    "        group_B_links.append(link)\n",
    "    \n",
    "    return group_B_links\n",
    "\n",
    "\n",
    "\n",
    "\n",
    "\n",
    "\n",
    "\n",
    "\n",
    "\n",
    "# get_indicator_data_for_group_A(driver)\n",
    "# group A example https://data.who.int/indicators/i/49AC786/77D059C?m49=004\n",
    "\n",
    "def get_indicator_data_for_group_A(driver, url):\n",
    "    driver.get(url)\n",
    "    \n",
    "    # Assuming the data table has two columns (year, count)\n",
    "    rows = driver.find_elements(By.CSS_SELECTOR, '.data-row')  # Update based on actual page structure\n",
    "    data = []\n",
    "    \n",
    "    for row in rows:\n",
    "        year = row.find_element(By.CSS_SELECTOR, '.year').text\n",
    "        count = row.find_element(By.CSS_SELECTOR, '.count').text\n",
    "        data.append({'year': year, 'count': count})\n",
    "    \n",
    "    return data\n",
    "\n",
    "# get_indicator_data_for_group_ B(driver)\n",
    "# group B example https://data.who.int/indicators/i/CCCEBB2/217795A?m49=004\n",
    "def get_indicator_data_for_group_B(driver, url):\n",
    "    driver.get(url)\n",
    "    \n",
    "    # Example: Extract line graph data\n",
    "    years = driver.find_elements(By.CSS_SELECTOR, '.graph-year')\n",
    "    values = driver.find_elements(By.CSS_SELECTOR, '.graph-value')\n",
    "    \n",
    "    data = []\n",
    "    \n",
    "    for i in range(len(years)):\n",
    "        year = years[i].text\n",
    "        value = values[i].text\n",
    "        data.append({'year': year, 'value': value})\n",
    "    \n",
    "    return data"
   ]
  },
  {
   "cell_type": "code",
   "execution_count": null,
   "metadata": {},
   "outputs": [],
   "source": [
    "# Import the necessary functions from functions.py\n",
    "from functions import get_group_A_indicators, get_group_B_indicators, get_indicator_data_for_group_A, get_indicator_data_for_group_B\n",
    "\n",
    "# Example usage\n",
    "group_A_links = get_group_A_indicators(driver)\n",
    "print(group_A_links)\n",
    "\n",
    "group_B_links = get_group_B_indicators(driver)\n",
    "print(group_B_links)\n",
    "\n",
    "# Get data for a specific group A indicator\n",
    "url_A = \"https://data.who.int/indicators/i/49AC786/77D059C?m49=004\"\n",
    "group_A_data = get_indicator_data_for_group_A(driver, url_A)\n",
    "print(group_A_data)\n",
    "\n",
    "# Get data for a specific group B indicator\n",
    "url_B = \"https://data.who.int/indicators/i/CCCEBB2/217795A?m49=004\"\n",
    "group_B_data = get_indicator_data_for_group_B(driver, url_B)\n",
    "print(group_B_data)"
   ]
  },
  {
   "cell_type": "code",
   "execution_count": null,
   "metadata": {},
   "outputs": [],
   "source": [
    "if __name__ == \"__main__\":\n",
    "    \n",
    "    # Get Group A indicators\n",
    "    group_A_links = get_group_A_indicators(driver)\n",
    "    \n",
    "    # Extract data for a Group A indicator\n",
    "    for link in group_A_links:\n",
    "        data = get_indicator_data_for_group_A(driver, link)\n",
    "        print(data)\n",
    "    \n",
    "    # Get Group B indicators\n",
    "    group_B_links = get_group_B_indicators(driver)\n",
    "    \n",
    "    # Extract data for a Group B indicator\n",
    "    for link in group_B_links:\n",
    "        data = get_indicator_data_for_group_B(driver, link)\n",
    "        print(data)\n",
    "    \n",
    "    driver.quit()"
   ]
  },
  {
   "cell_type": "code",
   "execution_count": null,
   "metadata": {},
   "outputs": [],
   "source": []
  }
 ],
 "metadata": {
  "kernelspec": {
   "display_name": "env",
   "language": "python",
   "name": "python3"
  },
  "language_info": {
   "codemirror_mode": {
    "name": "ipython",
    "version": 3
   },
   "file_extension": ".py",
   "mimetype": "text/x-python",
   "name": "python",
   "nbconvert_exporter": "python",
   "pygments_lexer": "ipython3",
   "version": "3.12.3"
  }
 },
 "nbformat": 4,
 "nbformat_minor": 2
}
