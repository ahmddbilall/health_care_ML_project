{
 "cells": [
  {
   "cell_type": "code",
   "execution_count": 127,
   "metadata": {},
   "outputs": [],
   "source": [
    "import importlib\n",
    "import functions\n",
    "\n",
    "importlib.reload(functions) \n",
    "\n",
    "from functions import *"
   ]
  },
  {
   "cell_type": "code",
   "execution_count": 2,
   "metadata": {},
   "outputs": [],
   "source": [
    "BASE_LINK = 'https://data.who.int/countries'"
   ]
  },
  {
   "cell_type": "code",
   "execution_count": 3,
   "metadata": {},
   "outputs": [
    {
     "name": "stderr",
     "output_type": "stream",
     "text": [
      "There was an error managing msedgedriver (error sending request for url (https://msedgedriver.azureedge.net/LATEST_RELEASE_126_LINUX)); using driver found in the cache\n"
     ]
    }
   ],
   "source": [
    "driver = start_browser()"
   ]
  },
  {
   "cell_type": "code",
   "execution_count": 100,
   "metadata": {},
   "outputs": [],
   "source": [
    "open_page(driver, BASE_LINK)"
   ]
  },
  {
   "cell_type": "code",
   "execution_count": 5,
   "metadata": {},
   "outputs": [],
   "source": [
    "counteries = get_list_of_countries(driver)"
   ]
  },
  {
   "cell_type": "code",
   "execution_count": 6,
   "metadata": {},
   "outputs": [
    {
     "name": "stdout",
     "output_type": "stream",
     "text": [
      "Total 194 countries found\n"
     ]
    }
   ],
   "source": [
    "print(f\"Total {len(counteries)} countries found\")"
   ]
  },
  {
   "cell_type": "code",
   "execution_count": 101,
   "metadata": {},
   "outputs": [],
   "source": [
    "Data = []"
   ]
  },
  {
   "cell_type": "code",
   "execution_count": null,
   "metadata": {},
   "outputs": [],
   "source": [
    "def mapper():\n",
    "    '''\n",
    "    Takes a dictionary and returns a dictonary of values\n",
    "    calcualte the values for missing years \n",
    "    Approch is to calculate the slope between very two points then then pridict the in between values\n",
    "    improve this approach using GPT\n",
    "    Dictonary must contains 24 data points\n",
    "    '''\n",
    "    pass"
   ]
  },
  {
   "cell_type": "code",
   "execution_count": 102,
   "metadata": {},
   "outputs": [],
   "source": [
    "for country in counteries:\n",
    "    open_page(driver, country)\n",
    "    \n",
    "    name = get_country_name(driver)\n",
    "    expenditure = get_current_health_expenditure(driver).split('(')[0]\n",
    "    region_name = get_who_region(driver)\n",
    "    income_level = get_world_bank_income_level(driver)\n",
    "    growth_rate = get_population_growth_rate(driver)\n",
    "    data_list = get_population_data(driver)\n",
    "    \n",
    "    \n",
    "\n",
    "    # life_expentancy = get_life_expentency_data(driver)\n",
    "    # life_expentancy = mapper(life_expentancy)\n",
    "    \n",
    "    # code to click the health expenditure button \n",
    "\n",
    "    # health_expenditure = get_health_life_expectancy_data(driver)\n",
    "    # health_expenditure = mapper(health_expenditure)\n",
    "\n",
    "    # group_A_links = get_group_A_indicators(driver)\n",
    "    # group_B_links = get_group_B_indicators(driver)\n",
    "\n",
    "    # Now fetch data for each indicator\n",
    "    # indicators = {}\n",
    "    # for i in group_A_links:\n",
    "        # ind_data = get_indicator_data_for_group_A(i.value)\n",
    "        # indicators[i.key] = ind_data\n",
    "    # for i in group_B_links:\n",
    "        # ind_data = get_indicator_data_for_group_B(i.value)\n",
    "        # indicators[i.key] = ind_data\n",
    "    \n",
    "    # Now we have scraped all data from current page. Now change the pages\n",
    "    for i in data_list[:25]:\n",
    "        dictonary = {\n",
    "            'Country': name,\n",
    "            'Current Health Expenditure': expenditure,\n",
    "            'WHO Region': region_name,\n",
    "            'World Bank Income Level': income_level,\n",
    "            'Population Growth Rate': growth_rate,\n",
    "            'Population': i[1],\n",
    "            'Year': i[0],\n",
    "        }\n",
    "        \n",
    "        Data.append(dictonary)\n",
    "\n",
    "    break \n"
   ]
  },
  {
   "cell_type": "code",
   "execution_count": null,
   "metadata": {},
   "outputs": [],
   "source": []
  },
  {
   "cell_type": "code",
   "execution_count": 97,
   "metadata": {},
   "outputs": [
    {
     "name": "stdout",
     "output_type": "stream",
     "text": [
      "Getting life expectancy data...\n",
      "_______________________________\n",
      "None Female\n",
      "2000 55.4\n",
      "2010 60.3\n",
      "2015 62.3\n",
      "2019 63.2\n",
      "2021 61\n",
      "_______________________________\n",
      "None Male\n",
      "2000 54.6\n",
      "2010 59.6\n",
      "2015 61\n",
      "2019 63.3\n",
      "2021 57.4\n",
      "_______________________________\n",
      "None Total\n",
      "2000 55\n",
      "2010 59.9\n",
      "2015 61.7\n",
      "2019 63.2\n",
      "2021 59.1\n",
      "_______________________________\n"
     ]
    }
   ],
   "source": [
    "get_life_expentency_data(driver)\n"
   ]
  },
  {
   "cell_type": "code",
   "execution_count": 128,
   "metadata": {},
   "outputs": [
    {
     "ename": "InvalidArgumentException",
     "evalue": "Message: invalid argument\n  (Session info: MicrosoftEdge=126.0.2592.102)\nStacktrace:\n#0 0x56169a9c467e <unknown>\n#1 0x56169a681545 <unknown>\n#2 0x56169a66af15 <unknown>\n#3 0x56169a669a3a <unknown>\n#4 0x56169a669b97 <unknown>\n#5 0x56169a684309 <unknown>\n#6 0x56169a70dc5e <unknown>\n#7 0x56169a6ef972 <unknown>\n#8 0x56169a70d58e <unknown>\n#9 0x56169a6ef713 <unknown>\n#10 0x56169a6c0a43 <unknown>\n#11 0x56169a6c17fe <unknown>\n#12 0x56169a994151 <unknown>\n#13 0x56169a9972ad <unknown>\n#14 0x56169a996d32 <unknown>\n#15 0x56169a997735 <unknown>\n#16 0x56169a9854db <unknown>\n#17 0x56169a997ad1 <unknown>\n#18 0x56169a971e05 <unknown>\n#19 0x56169a9b55b8 <unknown>\n#20 0x56169a9b5749 <unknown>\n#21 0x56169a9c39f1 <unknown>\n#22 0x7fd9b674bdab <unknown>\n",
     "output_type": "error",
     "traceback": [
      "\u001b[0;31m---------------------------------------------------------------------------\u001b[0m",
      "\u001b[0;31mInvalidArgumentException\u001b[0m                  Traceback (most recent call last)",
      "Cell \u001b[0;32mIn[128], line 2\u001b[0m\n\u001b[1;32m      1\u001b[0m url_A \u001b[38;5;241m=\u001b[39m \u001b[38;5;124m\"\u001b[39m\u001b[38;5;124mhttps://data.who.int/indicators/i/49AC786/77D059C?m49=004\u001b[39m\u001b[38;5;124m\"\u001b[39m\n\u001b[0;32m----> 2\u001b[0m group_A_data \u001b[38;5;241m=\u001b[39m \u001b[43mget_indicator_data_for_group_A\u001b[49m\u001b[43m(\u001b[49m\u001b[43mdriver\u001b[49m\u001b[43m,\u001b[49m\u001b[43m \u001b[49m\u001b[43murl_A\u001b[49m\u001b[43m)\u001b[49m\n\u001b[1;32m      3\u001b[0m \u001b[38;5;28mprint\u001b[39m(group_A_data)\n",
      "File \u001b[0;32m~/Desktop/DAV/scraping/functions.py:157\u001b[0m, in \u001b[0;36mget_indicator_data_for_group_A\u001b[0;34m(driver, url)\u001b[0m\n\u001b[1;32m    155\u001b[0m data \u001b[38;5;241m=\u001b[39m []\n\u001b[1;32m    156\u001b[0m \u001b[38;5;28;01mfor\u001b[39;00m i \u001b[38;5;129;01min\u001b[39;00m url:\n\u001b[0;32m--> 157\u001b[0m  \u001b[43mopen_page\u001b[49m\u001b[43m(\u001b[49m\u001b[43mdriver\u001b[49m\u001b[43m,\u001b[49m\u001b[43mi\u001b[49m\u001b[43m)\u001b[49m \n\u001b[1;32m    161\u001b[0m  b\u001b[38;5;241m=\u001b[39mdriver\u001b[38;5;241m.\u001b[39mfind_element(By\u001b[38;5;241m.\u001b[39mXPATH, \u001b[38;5;124m'\u001b[39m\u001b[38;5;124m/html/body/main/section/div[2]/div[3]/div[1]/div[1]/div/div/div/div/div/div/div[1]/div[2]/div/div[2]/label/span[2]\u001b[39m\u001b[38;5;124m'\u001b[39m)\n\u001b[1;32m    162\u001b[0m  b\u001b[38;5;241m.\u001b[39mclick()\n",
      "File \u001b[0;32m~/Desktop/DAV/scraping/functions.py:26\u001b[0m, in \u001b[0;36mopen_page\u001b[0;34m(driver, link)\u001b[0m\n\u001b[1;32m     21\u001b[0m \u001b[38;5;28;01mdef\u001b[39;00m \u001b[38;5;21mopen_page\u001b[39m(driver ,link):\n\u001b[1;32m     22\u001b[0m \u001b[38;5;250m    \u001b[39m\u001b[38;5;124;03m'''\u001b[39;00m\n\u001b[1;32m     23\u001b[0m \u001b[38;5;124;03m    Load the given URL and wait until the page is fully loaded.\u001b[39;00m\n\u001b[1;32m     24\u001b[0m \u001b[38;5;124;03m    If the page does not load within 10 seconds, an exception will be raised.\u001b[39;00m\n\u001b[1;32m     25\u001b[0m \u001b[38;5;124;03m    '''\u001b[39;00m\n\u001b[0;32m---> 26\u001b[0m     \u001b[43mdriver\u001b[49m\u001b[38;5;241;43m.\u001b[39;49m\u001b[43mget\u001b[49m\u001b[43m(\u001b[49m\u001b[43mlink\u001b[49m\u001b[43m)\u001b[49m\n\u001b[1;32m     27\u001b[0m     wait_for_page_load(driver)\n\u001b[1;32m     28\u001b[0m     \u001b[38;5;28;01massert\u001b[39;00m \u001b[38;5;124m\"\u001b[39m\u001b[38;5;124mNo results found.\u001b[39m\u001b[38;5;124m\"\u001b[39m \u001b[38;5;129;01mnot\u001b[39;00m \u001b[38;5;129;01min\u001b[39;00m driver\u001b[38;5;241m.\u001b[39mpage_source\n",
      "File \u001b[0;32m~/Desktop/DAV/env/lib/python3.11/site-packages/selenium/webdriver/remote/webdriver.py:363\u001b[0m, in \u001b[0;36mWebDriver.get\u001b[0;34m(self, url)\u001b[0m\n\u001b[1;32m    361\u001b[0m \u001b[38;5;28;01mdef\u001b[39;00m \u001b[38;5;21mget\u001b[39m(\u001b[38;5;28mself\u001b[39m, url: \u001b[38;5;28mstr\u001b[39m) \u001b[38;5;241m-\u001b[39m\u001b[38;5;241m>\u001b[39m \u001b[38;5;28;01mNone\u001b[39;00m:\n\u001b[1;32m    362\u001b[0m \u001b[38;5;250m    \u001b[39m\u001b[38;5;124;03m\"\"\"Loads a web page in the current browser session.\"\"\"\u001b[39;00m\n\u001b[0;32m--> 363\u001b[0m     \u001b[38;5;28;43mself\u001b[39;49m\u001b[38;5;241;43m.\u001b[39;49m\u001b[43mexecute\u001b[49m\u001b[43m(\u001b[49m\u001b[43mCommand\u001b[49m\u001b[38;5;241;43m.\u001b[39;49m\u001b[43mGET\u001b[49m\u001b[43m,\u001b[49m\u001b[43m \u001b[49m\u001b[43m{\u001b[49m\u001b[38;5;124;43m\"\u001b[39;49m\u001b[38;5;124;43murl\u001b[39;49m\u001b[38;5;124;43m\"\u001b[39;49m\u001b[43m:\u001b[49m\u001b[43m \u001b[49m\u001b[43murl\u001b[49m\u001b[43m}\u001b[49m\u001b[43m)\u001b[49m\n",
      "File \u001b[0;32m~/Desktop/DAV/env/lib/python3.11/site-packages/selenium/webdriver/remote/webdriver.py:354\u001b[0m, in \u001b[0;36mWebDriver.execute\u001b[0;34m(self, driver_command, params)\u001b[0m\n\u001b[1;32m    352\u001b[0m response \u001b[38;5;241m=\u001b[39m \u001b[38;5;28mself\u001b[39m\u001b[38;5;241m.\u001b[39mcommand_executor\u001b[38;5;241m.\u001b[39mexecute(driver_command, params)\n\u001b[1;32m    353\u001b[0m \u001b[38;5;28;01mif\u001b[39;00m response:\n\u001b[0;32m--> 354\u001b[0m     \u001b[38;5;28;43mself\u001b[39;49m\u001b[38;5;241;43m.\u001b[39;49m\u001b[43merror_handler\u001b[49m\u001b[38;5;241;43m.\u001b[39;49m\u001b[43mcheck_response\u001b[49m\u001b[43m(\u001b[49m\u001b[43mresponse\u001b[49m\u001b[43m)\u001b[49m\n\u001b[1;32m    355\u001b[0m     response[\u001b[38;5;124m\"\u001b[39m\u001b[38;5;124mvalue\u001b[39m\u001b[38;5;124m\"\u001b[39m] \u001b[38;5;241m=\u001b[39m \u001b[38;5;28mself\u001b[39m\u001b[38;5;241m.\u001b[39m_unwrap_value(response\u001b[38;5;241m.\u001b[39mget(\u001b[38;5;124m\"\u001b[39m\u001b[38;5;124mvalue\u001b[39m\u001b[38;5;124m\"\u001b[39m, \u001b[38;5;28;01mNone\u001b[39;00m))\n\u001b[1;32m    356\u001b[0m     \u001b[38;5;28;01mreturn\u001b[39;00m response\n",
      "File \u001b[0;32m~/Desktop/DAV/env/lib/python3.11/site-packages/selenium/webdriver/remote/errorhandler.py:229\u001b[0m, in \u001b[0;36mErrorHandler.check_response\u001b[0;34m(self, response)\u001b[0m\n\u001b[1;32m    227\u001b[0m         alert_text \u001b[38;5;241m=\u001b[39m value[\u001b[38;5;124m\"\u001b[39m\u001b[38;5;124malert\u001b[39m\u001b[38;5;124m\"\u001b[39m]\u001b[38;5;241m.\u001b[39mget(\u001b[38;5;124m\"\u001b[39m\u001b[38;5;124mtext\u001b[39m\u001b[38;5;124m\"\u001b[39m)\n\u001b[1;32m    228\u001b[0m     \u001b[38;5;28;01mraise\u001b[39;00m exception_class(message, screen, stacktrace, alert_text)  \u001b[38;5;66;03m# type: ignore[call-arg]  # mypy is not smart enough here\u001b[39;00m\n\u001b[0;32m--> 229\u001b[0m \u001b[38;5;28;01mraise\u001b[39;00m exception_class(message, screen, stacktrace)\n",
      "\u001b[0;31mInvalidArgumentException\u001b[0m: Message: invalid argument\n  (Session info: MicrosoftEdge=126.0.2592.102)\nStacktrace:\n#0 0x56169a9c467e <unknown>\n#1 0x56169a681545 <unknown>\n#2 0x56169a66af15 <unknown>\n#3 0x56169a669a3a <unknown>\n#4 0x56169a669b97 <unknown>\n#5 0x56169a684309 <unknown>\n#6 0x56169a70dc5e <unknown>\n#7 0x56169a6ef972 <unknown>\n#8 0x56169a70d58e <unknown>\n#9 0x56169a6ef713 <unknown>\n#10 0x56169a6c0a43 <unknown>\n#11 0x56169a6c17fe <unknown>\n#12 0x56169a994151 <unknown>\n#13 0x56169a9972ad <unknown>\n#14 0x56169a996d32 <unknown>\n#15 0x56169a997735 <unknown>\n#16 0x56169a9854db <unknown>\n#17 0x56169a997ad1 <unknown>\n#18 0x56169a971e05 <unknown>\n#19 0x56169a9b55b8 <unknown>\n#20 0x56169a9b5749 <unknown>\n#21 0x56169a9c39f1 <unknown>\n#22 0x7fd9b674bdab <unknown>\n"
     ]
    }
   ],
   "source": [
    "\n",
    "url_A = \"https://data.who.int/indicators/i/49AC786/77D059C?m49=004\"\n",
    "group_A_data = get_indicator_data_for_group_A(driver, url_A)\n",
    "print(group_A_data)\n"
   ]
  },
  {
   "cell_type": "code",
   "execution_count": 80,
   "metadata": {},
   "outputs": [
    {
     "name": "stdout",
     "output_type": "stream",
     "text": [
      "[]\n"
     ]
    }
   ],
   "source": [
    "\n",
    "# Get data for a specific group B indicator\n",
    "url_B = \"https://data.who.int/indicators/i/CCCEBB2/217795A?m49=004\"\n",
    "group_B_data = get_indicator_data_for_group_B(driver, url_B)\n",
    "print(group_B_data)"
   ]
  },
  {
   "cell_type": "code",
   "execution_count": null,
   "metadata": {},
   "outputs": [],
   "source": []
  },
  {
   "cell_type": "markdown",
   "metadata": {},
   "source": [
    "## NAJAM\n",
    "\n",
    "**Things to do**\n",
    "- 1 Name of country\n",
    "- 2 Current health expenditure (% of GDP)\n",
    "- 3 WHO region\n",
    "- 4 World Bank income level\n",
    "- 5 Population growth rate\n",
    "- 6 Leading cause of death\n",
    "- 7 Leading cause of under 5 mortality\n",
    "- 8 extract data from population graph from 2000 to 2024 (get twenty rows w.r.t two columns year and population)\n",
    "- 9 extract data from life expentency at birth graph (get twenty data points from 2000 to 2024 with two columns year and total (not male or female))\n",
    "- 10 extract data from Healthy life expectancy (HALE) at birth graph (get twenty data points from 2000 to 2024 with two columns year and total (not male or female))\n"
   ]
  },
  {
   "cell_type": "markdown",
   "metadata": {},
   "source": [
    "## SHAHZAD\n",
    "\n",
    "**Things to do**\n",
    "\n",
    "\n",
    "- 3 two functions to extract **visit indicator** links for following categories (divide them in group A and B)\n",
    "   - 3.1 Number of new HIV infections\n",
    "   - 3.2 People living with tuberculosis (TB)\n",
    "   - 3.3 Malaria cases\n",
    "   - 3.4 Probability of dying from non-communicable diseases\n",
    "   - 3.5 Road traffic deaths\n",
    "   - 3.6 Suicide deaths\n",
    "   - 3.7 Prevalence of hypertension\n",
    "   - 3.8 Adult obesity\n",
    "   - 3.9 Tobacco use\n",
    "   - 3.10 Alcohol consumption\n",
    "   - 3.11 Safely managed sanitation\n",
    "   - 3.12 Fine particulate matter\n",
    "   - 3.13 UHC index score\n",
    "   - 3.14 Births attended by skilled health personnel\n",
    "   - 3.15 Family planning\n",
    "   - 3.16 DTP3 immunization\n",
    "   - 3.17 MCV2 immunization\n",
    "   - 3.18 Interventions against NTDs\n",
    "   - 3.19 Density of doctors\n",
    "   - 3.20 Density of nurses\n",
    "   - 3.21 Density of pharmacists\n",
    "   - 3.22 Density of dentists\n",
    "   - 3.23 WASH development assistance\n",
    "   - 3.24 Financial hardship\n",
    "- 4 A general function to extract visit indicators of this kind of pages (https://data.who.int/indicators/i/49AC786/77D059C?m49=004)\n",
    "   - 4.1 return 24 rows with two columns year and count.\n",
    "- 5 a general function to extract the other kind of function\n",
    "   - 5.1 get 23-24 years data from line graph displayed on indicator page (example https://data.who.int/indicators/i/CCCEBB2/217795A?m49=004)"
   ]
  }
 ],
 "metadata": {
  "kernelspec": {
   "display_name": "env",
   "language": "python",
   "name": "python3"
  },
  "language_info": {
   "codemirror_mode": {
    "name": "ipython",
    "version": 3
   },
   "file_extension": ".py",
   "mimetype": "text/x-python",
   "name": "python",
   "nbconvert_exporter": "python",
   "pygments_lexer": "ipython3",
   "version": "3.11.9"
  }
 },
 "nbformat": 4,
 "nbformat_minor": 2
}
