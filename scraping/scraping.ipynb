{
 "cells": [
  {
   "cell_type": "code",
   "execution_count": 32,
   "metadata": {},
   "outputs": [],
   "source": [
    "import importlib\n",
    "import functions\n",
    "\n",
    "importlib.reload(functions)  # This will reload the functions module with any changes made\n",
    "\n",
    "from functions import *"
   ]
  },
  {
   "cell_type": "code",
   "execution_count": 11,
   "metadata": {},
   "outputs": [],
   "source": [
    "BASE_LINK = 'https://data.who.int/countries'"
   ]
  },
  {
   "cell_type": "code",
   "execution_count": 12,
   "metadata": {},
   "outputs": [],
   "source": [
    "driver = start_browser()"
   ]
  },
  {
   "cell_type": "code",
   "execution_count": 15,
   "metadata": {},
   "outputs": [],
   "source": [
    "open_page(driver, BASE_LINK)"
   ]
  },
  {
   "cell_type": "code",
   "execution_count": 33,
   "metadata": {},
   "outputs": [],
   "source": [
    "counteries = get_list_of_countries(driver)"
   ]
  },
  {
   "cell_type": "code",
   "execution_count": 36,
   "metadata": {},
   "outputs": [
    {
     "name": "stdout",
     "output_type": "stream",
     "text": [
      "Total 194 countries found\n"
     ]
    }
   ],
   "source": [
    "print(f\"Total {len(counteries)} countries found\")"
   ]
  },
  {
   "cell_type": "markdown",
   "metadata": {},
   "source": [
    "## NOW use only 1st country present in counteries list and write the required functions"
   ]
  },
  {
   "cell_type": "code",
   "execution_count": 37,
   "metadata": {},
   "outputs": [],
   "source": [
    "country = counteries[0]\n",
    "open_page(driver,country)"
   ]
  },
  {
   "cell_type": "markdown",
   "metadata": {},
   "source": [
    "## NAJAM\n",
    "\n",
    "**Things to do**\n",
    "- 1 Name of country\n",
    "- 2 Current health expenditure (% of GDP)\n",
    "- 3 WHO region\n",
    "- 4 World Bank income level\n",
    "- 5 Population growth rate\n",
    "- 6 Leading cause of death\n",
    "- 7 Leading cause of under 5 mortality\n",
    "- 8 extract data from population graph from 2000 to 2024 (get twenty rows w.r.t two columns year and population)\n"
   ]
  },
  {
   "cell_type": "code",
   "execution_count": null,
   "metadata": {},
   "outputs": [],
   "source": [
    "# get_country_name(driver)\n",
    "\n",
    "# get_current_health_expenditure(driver)\n",
    "\n",
    "# get_who_region(driver)\n",
    "\n",
    "# get_world_bank_income_level(driver)\n",
    "\n",
    "# get_population_growth_rate(driver)\n",
    "\n",
    "# get_leading_cause_of_death(driver)\n",
    "\n",
    "# get_leading_cause_of_death(driver)\n",
    "\n",
    "# get_leading_cause_of_under_5_mortality(driver)\n",
    "\n",
    "# get_population_data(driver)"
   ]
  },
  {
   "cell_type": "markdown",
   "metadata": {},
   "source": [
    "## SHAHZAD\n",
    "\n",
    "**Things to do**\n",
    "\n",
    "- 1 extract data from life expentency at birth graph (get twenty data points from 2000 to 2024 with two columns year and total (not male or female))\n",
    "- 2 extract data from Healthy life expectancy (HALE) at birth graph (get twenty data points from 2000 to 2024 with two columns year and total (not male or female))\n",
    "- 3 A function to extract **visit indicator** links for following categories\n",
    "   - 3.1 Number of new HIV infections\n",
    "   - 3.2 People living with tuberculosis (TB)\n",
    "   - 3.3 Malaria cases\n",
    "   - 3.4 Probability of dying from non-communicable diseases\n",
    "   - 3.5 Road traffic deaths\n",
    "   - 3.6 Suicide deaths\n",
    "   - 3.7 Prevalence of hypertension\n",
    "   - 3.8 Adult obesity\n",
    "   - 3.9 Tobacco use\n",
    "   - 3.10 Alcohol consumption\n",
    "   - 3.11 Safely managed sanitation\n",
    "   - 3.12 Fine particulate matter\n",
    "   - 3.13 UHC index score\n",
    "   - 3.14 Births attended by skilled health personnel\n",
    "   - 3.15 Family planning\n",
    "   - 3.16 DTP3 immunization\n",
    "   - 3.17 MCV2 immunization\n",
    "   - 3.18 Interventions against NTDs\n",
    "   - 3.19 Density of doctors\n",
    "   - 3.20 Density of nurses\n",
    "   - 3.21 Density of pharmacists\n",
    "   - 3.22 Density of dentists\n",
    "   - 3.23 WASH development assistance\n",
    "   - 3.24 Financial hardship\n",
    "- 4 A general function to extract visit indicators of this kind of pages (https://data.who.int/indicators/i/49AC786/77D059C?m49=004)\n",
    "   - 4.1 return 24 rows with two columns year and count.\n",
    "- 5 a general function to extract the other kind of function\n",
    "   - 5.1 get 23-24 years data from line graph displayed on indicator page (example https://data.who.int/indicators/i/CCCEBB2/217795A?m49=004)"
   ]
  },
  {
   "cell_type": "code",
   "execution_count": null,
   "metadata": {},
   "outputs": [],
   "source": [
    "# get_life_expentency_data(driver)\n",
    "\n",
    "# get_health_life_expectancy_data(driver)\n",
    "\n",
    "# get_all_indicators(driver)\n",
    "\n",
    "\n",
    "\n",
    "# get_indicator_data_for_group_A(driver)\n",
    "# group A example https://data.who.int/indicators/i/49AC786/77D059C?m49=004\n",
    "\n",
    "\n",
    "# get_indicator_data_for_group_ B(driver)\n",
    "# group B example https://data.who.int/indicators/i/CCCEBB2/217795A?m49=004"
   ]
  }
 ],
 "metadata": {
  "kernelspec": {
   "display_name": "env",
   "language": "python",
   "name": "python3"
  },
  "language_info": {
   "codemirror_mode": {
    "name": "ipython",
    "version": 3
   },
   "file_extension": ".py",
   "mimetype": "text/x-python",
   "name": "python",
   "nbconvert_exporter": "python",
   "pygments_lexer": "ipython3",
   "version": "3.11.9"
  }
 },
 "nbformat": 4,
 "nbformat_minor": 2
}
