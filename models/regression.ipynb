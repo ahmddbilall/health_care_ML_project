{
 "cells": [
  {
   "cell_type": "code",
   "execution_count": null,
   "metadata": {},
   "outputs": [],
   "source": [
    "import pandas as pd\n",
    "import numpy as np\n",
    "from sklearn.cluster import KMeans\n",
    "from sklearn.preprocessing import StandardScaler\n",
    "from sklearn.metrics import r2_score\n",
    "from statsmodels.tsa.arima.model import ARIMA\n",
    "from statsmodels.tsa.statespace.sarimax import SARIMAX\n",
    "from prophet import Prophet\n",
    "from keras.models import Sequential\n",
    "from keras.layers import LSTM, Dense\n",
    "import pickle\n",
    "import matplotlib.pyplot as plt"
   ]
  },
  {
   "cell_type": "code",
   "execution_count": 17,
   "metadata": {},
   "outputs": [],
   "source": [
    "df = pd.read_csv('data.csv')\n",
    "df2 = pd.read_csv('clusters_population.csv')"
   ]
  },
  {
   "cell_type": "code",
   "execution_count": 18,
   "metadata": {},
   "outputs": [],
   "source": [
    "df = pd.merge(df, df2[['name', 'Assigned Cluster']], on='name', how='left')\n"
   ]
  },
  {
   "cell_type": "code",
   "execution_count": 19,
   "metadata": {},
   "outputs": [
    {
     "data": {
      "text/html": [
       "<div>\n",
       "<style scoped>\n",
       "    .dataframe tbody tr th:only-of-type {\n",
       "        vertical-align: middle;\n",
       "    }\n",
       "\n",
       "    .dataframe tbody tr th {\n",
       "        vertical-align: top;\n",
       "    }\n",
       "\n",
       "    .dataframe thead th {\n",
       "        text-align: right;\n",
       "    }\n",
       "</style>\n",
       "<table border=\"1\" class=\"dataframe\">\n",
       "  <thead>\n",
       "    <tr style=\"text-align: right;\">\n",
       "      <th></th>\n",
       "      <th>health_expenditure</th>\n",
       "      <th>who_region</th>\n",
       "      <th>world_bank_income_level</th>\n",
       "      <th>population growth rate%</th>\n",
       "      <th>year</th>\n",
       "      <th>population</th>\n",
       "      <th>life_expectancy</th>\n",
       "      <th>health_life_expectancy</th>\n",
       "      <th>Number of new HIV infections</th>\n",
       "      <th>Suicide deaths</th>\n",
       "      <th>Adult obesity%</th>\n",
       "      <th>Tobacco use%</th>\n",
       "      <th>Alcohol consumption</th>\n",
       "      <th>Prevalence of hypertension%</th>\n",
       "      <th>name</th>\n",
       "      <th>Assigned Cluster</th>\n",
       "    </tr>\n",
       "  </thead>\n",
       "  <tbody>\n",
       "    <tr>\n",
       "      <th>0</th>\n",
       "      <td>21.83</td>\n",
       "      <td>2</td>\n",
       "      <td>1</td>\n",
       "      <td>2.2</td>\n",
       "      <td>2000</td>\n",
       "      <td>1.921867e+06</td>\n",
       "      <td>55.00</td>\n",
       "      <td>46.80</td>\n",
       "      <td>0.0</td>\n",
       "      <td>4.1</td>\n",
       "      <td>2.1</td>\n",
       "      <td>20.0</td>\n",
       "      <td>0.0</td>\n",
       "      <td>44.249837</td>\n",
       "      <td>Afghanistan</td>\n",
       "      <td>1</td>\n",
       "    </tr>\n",
       "    <tr>\n",
       "      <th>1</th>\n",
       "      <td>21.83</td>\n",
       "      <td>2</td>\n",
       "      <td>1</td>\n",
       "      <td>2.2</td>\n",
       "      <td>2001</td>\n",
       "      <td>1.921867e+06</td>\n",
       "      <td>55.49</td>\n",
       "      <td>47.23</td>\n",
       "      <td>0.0</td>\n",
       "      <td>4.9</td>\n",
       "      <td>2.1</td>\n",
       "      <td>20.0</td>\n",
       "      <td>0.0</td>\n",
       "      <td>35.839694</td>\n",
       "      <td>Afghanistan</td>\n",
       "      <td>1</td>\n",
       "    </tr>\n",
       "  </tbody>\n",
       "</table>\n",
       "</div>"
      ],
      "text/plain": [
       "   health_expenditure  who_region  world_bank_income_level  \\\n",
       "0               21.83           2                        1   \n",
       "1               21.83           2                        1   \n",
       "\n",
       "   population growth rate%  year    population  life_expectancy  \\\n",
       "0                      2.2  2000  1.921867e+06            55.00   \n",
       "1                      2.2  2001  1.921867e+06            55.49   \n",
       "\n",
       "   health_life_expectancy  Number of new HIV infections  Suicide deaths  \\\n",
       "0                   46.80                           0.0             4.1   \n",
       "1                   47.23                           0.0             4.9   \n",
       "\n",
       "   Adult obesity%  Tobacco use%  Alcohol consumption  \\\n",
       "0             2.1          20.0                  0.0   \n",
       "1             2.1          20.0                  0.0   \n",
       "\n",
       "   Prevalence of hypertension%         name  Assigned Cluster  \n",
       "0                    44.249837  Afghanistan                 1  \n",
       "1                    35.839694  Afghanistan                 1  "
      ]
     },
     "execution_count": 19,
     "metadata": {},
     "output_type": "execute_result"
    }
   ],
   "source": [
    "df.head(2)"
   ]
  },
  {
   "cell_type": "code",
   "execution_count": 20,
   "metadata": {},
   "outputs": [],
   "source": [
    "R2_THRESHOLD = 0.93"
   ]
  },
  {
   "cell_type": "code",
   "execution_count": 21,
   "metadata": {},
   "outputs": [],
   "source": [
    "target_indicators = ['Adult obesity%', 'Tobacco use%', 'Alcohol consumption',\n",
    "                     'Number of new HIV infections', 'Suicide deaths', 'Prevalence of hypertension%']"
   ]
  },
  {
   "cell_type": "code",
   "execution_count": 22,
   "metadata": {},
   "outputs": [],
   "source": [
    "feature_columns = ['health_expenditure', 'population growth rate%', 'population',\n",
    "                   'life_expectancy', 'health_life_expectancy', 'world_bank_income_level']"
   ]
  },
  {
   "cell_type": "code",
   "execution_count": null,
   "metadata": {},
   "outputs": [],
   "source": [
    "model_performance = {indicator: {} for indicator in target_indicators}"
   ]
  },
  {
   "cell_type": "code",
   "execution_count": 24,
   "metadata": {},
   "outputs": [],
   "source": [
    "df.to_csv('../models/pklFiles/ClusterDataForTimeSeries.csv')"
   ]
  },
  {
   "cell_type": "code",
   "execution_count": null,
   "metadata": {},
   "outputs": [],
   "source": [
    "for indicator in target_indicators:\n",
    "    indicator_data = df[['year', 'name', 'Assigned Cluster', indicator]].dropna()\n",
    "\n",
    "    for cluster_id in df['Assigned Cluster'].unique():\n",
    "        cluster_data = indicator_data[indicator_data['Assigned Cluster'] == cluster_id]\n",
    "        cluster_data = cluster_data.set_index('year').sort_index()\n",
    "\n",
    "        y = cluster_data.groupby('year')[indicator].mean() \n",
    "        best_score = float('-inf')\n",
    "        best_model = None\n",
    "        best_model_name = \"\"\n",
    "        best_scaler = None\n",
    "\n",
    "        # 1. ARIMA model\n",
    "        try:\n",
    "            arima_model = ARIMA(y, order=(1, 1, 1))\n",
    "            arima_result = arima_model.fit()\n",
    "            y_pred_arima = arima_result.predict(start=y.index[0], end=y.index[-1])\n",
    "            score_arima = r2_score(y, y_pred_arima)\n",
    "            if score_arima > best_score and score_arima <= R2_THRESHOLD:\n",
    "                best_score = score_arima\n",
    "                best_model = arima_result\n",
    "                best_model_name = \"ARIMA\"\n",
    "        except Exception as e:\n",
    "            print(f\"ARIMA failed for cluster {cluster_id} on {indicator}: {e}\")\n",
    "\n",
    "        # 2. SARIMA model (for seasonality)\n",
    "        try:\n",
    "            sarima_model = SARIMAX(y, order=(1, 1, 1), seasonal_order=(1, 1, 1, 12))\n",
    "            sarima_result = sarima_model.fit()\n",
    "            y_pred_sarima = sarima_result.predict(start=y.index[0], end=y.index[-1])\n",
    "            score_sarima = r2_score(y, y_pred_sarima)\n",
    "            if score_sarima > best_score and score_sarima <= R2_THRESHOLD:\n",
    "                best_score = score_sarima\n",
    "                best_model = sarima_result\n",
    "                best_model_name = \"SARIMA\"\n",
    "        except Exception as e:\n",
    "            print(f\"SARIMA failed for cluster {cluster_id} on {indicator}: {e}\")\n",
    "\n",
    "        # 3. Prophet model\n",
    "        try:\n",
    "            prophet_data = cluster_data.groupby('year')[indicator].mean().reset_index()\n",
    "            prophet_data = prophet_data.rename(columns={'year': 'ds', indicator: 'y'})\n",
    "            prophet_model = Prophet(yearly_seasonality=True, weekly_seasonality=False, daily_seasonality=False)\n",
    "            prophet_model.fit(prophet_data)\n",
    "            future = prophet_model.make_future_dataframe(periods=0)\n",
    "            forecast = prophet_model.predict(future)\n",
    "            y_pred_prophet = forecast['yhat'].values\n",
    "            score_prophet = r2_score(y, y_pred_prophet[:len(y)])\n",
    "            if score_prophet > best_score and score_prophet <= R2_THRESHOLD:\n",
    "                best_score = score_prophet\n",
    "                best_model = prophet_model\n",
    "                best_model_name = \"Prophet\"\n",
    "        except Exception as e:\n",
    "            print(f\"Prophet failed for cluster {cluster_id} on {indicator}: {e}\")\n",
    "\n",
    "        # 4. LSTM model\n",
    "        try:\n",
    "            scaler = StandardScaler()\n",
    "            y_scaled = scaler.fit_transform(y.values.reshape(-1, 1))\n",
    "\n",
    "            # Reshape for LSTM input\n",
    "            X_lstm = []\n",
    "            y_lstm = []\n",
    "            for i in range(1, len(y_scaled)):\n",
    "                X_lstm.append(y_scaled[i-1:i, 0])\n",
    "                y_lstm.append(y_scaled[i, 0])\n",
    "            X_lstm, y_lstm = np.array(X_lstm), np.array(y_lstm)\n",
    "            X_lstm = X_lstm.reshape((X_lstm.shape[0], X_lstm.shape[1], 1))\n",
    "\n",
    "            lstm_model = Sequential([\n",
    "                LSTM(50, activation='relu', input_shape=(X_lstm.shape[1], 1)),\n",
    "                Dense(1)\n",
    "            ])\n",
    "            lstm_model.compile(optimizer='adam', loss='mse')\n",
    "            lstm_model.fit(X_lstm, y_lstm, epochs=50, batch_size=1, verbose=0)\n",
    "\n",
    "            # Predict\n",
    "            y_pred_lstm = lstm_model.predict(X_lstm)\n",
    "            y_pred_lstm = scaler.inverse_transform(y_pred_lstm)\n",
    "            score_lstm = r2_score(y[1:], y_pred_lstm[:, 0])\n",
    "            if score_lstm > best_score and score_lstm <= R2_THRESHOLD:\n",
    "                best_score = score_lstm\n",
    "                best_model = lstm_model\n",
    "                best_model_name = \"LSTM\"\n",
    "                best_scaler = scaler\n",
    "        except Exception as e:\n",
    "            print(f\"LSTM failed for cluster {cluster_id} on {indicator}: {e}\")\n",
    "\n",
    "        # Log the best model for this cluster and indicator\n",
    "        model_performance[indicator][cluster_id] = (best_model_name, best_score)\n",
    "        print(f\"Best model for cluster {cluster_id} on {indicator}: {best_model_name} with R² score of {best_score}\")\n",
    "\n",
    "        # Save the best model\n",
    "        if best_model:\n",
    "            with open(f'../models/pklFiles/{indicator}_cluster_{cluster_id}_model_{best_model_name}.pkl', 'wb') as file:\n",
    "                pickle.dump(best_model, file)\n",
    "            if best_model_name == \"LSTM\" and best_scaler:\n",
    "                with open(f'../models/pklFiles/{indicator}_cluster_{cluster_id}_scaler_{best_model_name}.pkl', 'wb') as file:\n",
    "                    pickle.dump(best_scaler, file)\n"
   ]
  },
  {
   "cell_type": "code",
   "execution_count": 6,
   "metadata": {},
   "outputs": [
    {
     "data": {
      "image/png": "[encoded data removed]",
      "text/plain": [
       "<Figure size 1200x600 with 1 Axes>"
      ]
     },
     "metadata": {},
     "output_type": "display_data"
    }
   ],
   "source": [
    "import matplotlib.pyplot as plt\n",
    "import numpy as np\n",
    "\n",
    "indicators = list(model_performance.keys())\n",
    "\n",
    "scores = [\n",
    "    np.max([value[1] for value in clusters.values()]) for clusters in model_performance.values()\n",
    "]\n",
    "\n",
    "\n",
    "plt.figure(figsize=(12, 6))\n",
    "plt.bar(indicators, scores, color='skyblue', edgecolor='black')\n",
    "\n",
    "plt.xticks(rotation=45, ha='right', fontsize=10)\n",
    "plt.ylabel(\"Model Score (%)\", fontsize=12)\n",
    "plt.title(\"Best Model Score Across Indicators\", fontsize=14)\n",
    "plt.ylim(70, 95)  \n",
    "plt.tight_layout()\n",
    "plt.show()\n"
   ]
  },
  {
   "cell_type": "code",
   "execution_count": null,
   "metadata": {},
   "outputs": [],
   "source": []
  },
  {
   "cell_type": "markdown",
   "metadata": {},
   "source": [
    "The selected time series models—**ARIMA**, **SARIMA**, **Prophet**, and **LSTM**—were the optimal choice for this dataset because they align well with the inherent **temporal dependencies** and seasonal patterns present in the data.\n",
    "<br><br>\n",
    "**ARIMA** and **SARIMA** models are renowned for their effectiveness in modeling univariate time series data with linear trends and seasonality, making them ideal for predicting continuous variables like population growth or health expenditures. SARIMA, specifically, handles seasonal patterns, which is crucial when dealing with yearly data that may exhibit recurring cycles. \n",
    "<br><br>\n",
    "**Prophet**, excels at capturing complex seasonality, holidays, and irregular trends, which is particularly useful for health-related data with multiple influencing factors. \n",
    "<br><br>\n",
    "\n",
    "**LSTM**, a deep learning model, is designed to learn from long-range dependencies in sequential data, making it highly effective for capturing non-linear relationships and complex temporal dynamics in large datasets. By combining these models, you ensured comprehensive coverage of both linear and non-linear temporal patterns, leading to more accurate predictions for each column of your dataset."
   ]
  }
 ],
 "metadata": {
  "kernelspec": {
   "display_name": "env",
   "language": "python",
   "name": "python3"
  },
  "language_info": {
   "codemirror_mode": {
    "name": "ipython",
    "version": 3
   },
   "file_extension": ".py",
   "mimetype": "text/x-python",
   "name": "python",
   "nbconvert_exporter": "python",
   "pygments_lexer": "ipython3",
   "version": "3.11.9"
  }
 },
 "nbformat": 4,
 "nbformat_minor": 2
}
