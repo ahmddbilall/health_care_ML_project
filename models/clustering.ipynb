{
 "cells": [
  {
   "cell_type": "code",
   "execution_count": 63,
   "metadata": {},
   "outputs": [],
   "source": [
    "import numpy as np\n",
    "import pandas as pd\n",
    "import matplotlib.pyplot as plt\n",
    "from sklearn.preprocessing import StandardScaler\n",
    "from sklearn.cluster import KMeans, DBSCAN\n",
    "from sklearn.metrics import silhouette_score\n",
    "from keras.layers import Input, Dense\n",
    "from keras.models import Model\n",
    "import plotly.express as px\n",
    "import plotly.io as pio\n",
    "\n",
    "pio.renderers.default = \"browser\""
   ]
  },
  {
   "cell_type": "code",
   "execution_count": 64,
   "metadata": {},
   "outputs": [],
   "source": [
    "dff = pd.read_csv('data.csv')\n",
    "df = dff[dff['year']==2024].copy()\n",
    "df['population'] = df['population'].astype(int)"
   ]
  },
  {
   "cell_type": "code",
   "execution_count": 65,
   "metadata": {},
   "outputs": [],
   "source": [
    "def evaluate_model(X, labels):\n",
    "    if len(set(labels)) > 1:  \n",
    "        score = silhouette_score(X, labels)\n",
    "    else:\n",
    "        score = -1  \n",
    "    return score"
   ]
  },
  {
   "cell_type": "code",
   "execution_count": 66,
   "metadata": {},
   "outputs": [],
   "source": [
    "def plot_clusters_interactive(data, labels, column_name):\n",
    "    data['Assigned Cluster'] = labels\n",
    "    fig = px.scatter(data, x='name', y=column_name, color='Assigned Cluster',\n",
    "                     title=f\"Interactive Clustering of Countries by {column_name}\",\n",
    "                     labels={'name': 'Country', column_name: column_name},\n",
    "                     template='plotly_white')\n",
    "    fig.update_layout(showlegend=True)\n",
    "    fig.show(renderer=\"browser\")  "
   ]
  },
  {
   "cell_type": "code",
   "execution_count": 67,
   "metadata": {},
   "outputs": [],
   "source": [
    "def autoencoder_clustering(X_scaled):\n",
    "    input_dim = X_scaled.shape[1]\n",
    "    input_layer = Input(shape=(input_dim,))\n",
    "    encoder = Dense(16, activation='relu')(input_layer)\n",
    "    encoder = Dense(8, activation='relu')(encoder)\n",
    "    encoder_output = Dense(3, activation='relu')(encoder)\n",
    "    decoder = Dense(8, activation='relu')(encoder_output)\n",
    "    decoder = Dense(16, activation='relu')(decoder)\n",
    "    decoder_output = Dense(input_dim)(decoder)\n",
    "    autoencoder = Model(inputs=input_layer, outputs=decoder_output)\n",
    "    autoencoder.compile(optimizer=\"adam\", loss='mse')\n",
    "    autoencoder.fit(X_scaled, X_scaled, epochs=100, batch_size=32, verbose=0)\n",
    "    encoded_X = Model(inputs=input_layer, outputs=encoder_output).predict(X_scaled)\n",
    "    return encoded_X"
   ]
  },
  {
   "cell_type": "code",
   "execution_count": 68,
   "metadata": {},
   "outputs": [],
   "source": [
    "target_columns = [ 'Number of new HIV infections', 'Tobacco use%', 'Alcohol consumption','population', 'Prevalence of hypertension%']\n"
   ]
  },
  {
   "cell_type": "code",
   "execution_count": 69,
   "metadata": {},
   "outputs": [],
   "source": [
    "results = {}\n"
   ]
  },
  {
   "cell_type": "code",
   "execution_count": 70,
   "metadata": {},
   "outputs": [
    {
     "name": "stdout",
     "output_type": "stream",
     "text": [
      "\u001b[1m7/7\u001b[0m \u001b[32m━━━━━━━━━━━━━━━━━━━━\u001b[0m\u001b[37m\u001b[0m \u001b[1m1s\u001b[0m 40ms/step\n",
      "For Number of new HIV infections autoencoders achived 0.7572727032070447\n",
      "For Number of new HIV infections DBSCAN achived 0.7572727032070447\n",
      "For Number of new HIV infections kmeans achived 0.7572727032070447\n",
      "Opening in existing browser session.\n",
      "\u001b[1m7/7\u001b[0m \u001b[32m━━━━━━━━━━━━━━━━━━━━\u001b[0m\u001b[37m\u001b[0m \u001b[1m0s\u001b[0m 23ms/step\n",
      "For Tobacco use% autoencoders achived 0.49430171844731846\n",
      "For Tobacco use% DBSCAN achived 0.49430171844731846\n",
      "For Tobacco use% kmeans achived 0.49430171844731846\n",
      "Opening in existing browser session.\n",
      "\u001b[1m7/7\u001b[0m \u001b[32m━━━━━━━━━━━━━━━━━━━━\u001b[0m\u001b[37m\u001b[0m \u001b[1m0s\u001b[0m 25ms/step\n",
      "For Alcohol consumption autoencoders achived 0.5642770787064374\n",
      "For Alcohol consumption DBSCAN achived 0.5642770787064374\n",
      "For Alcohol consumption kmeans achived 0.5642770787064374\n",
      "Opening in existing browser session.\n",
      "\u001b[1m7/7\u001b[0m \u001b[32m━━━━━━━━━━━━━━━━━━━━\u001b[0m\u001b[37m\u001b[0m \u001b[1m0s\u001b[0m 26ms/step\n",
      "For population autoencoders achived 0.38184319739709865\n",
      "For population DBSCAN achived 0.38184319739709865\n",
      "For population kmeans achived 0.38184319739709865\n",
      "Opening in existing browser session.\n",
      "\u001b[1m7/7\u001b[0m \u001b[32m━━━━━━━━━━━━━━━━━━━━\u001b[0m\u001b[37m\u001b[0m \u001b[1m0s\u001b[0m 24ms/step\n",
      "For Prevalence of hypertension% autoencoders achived 0.5084102264131135\n",
      "For Prevalence of hypertension% DBSCAN achived 0.5084102264131135\n",
      "For Prevalence of hypertension% kmeans achived 0.5084102264131135\n",
      "Opening in existing browser session.\n"
     ]
    }
   ],
   "source": [
    "for target in target_columns:\n",
    "    data = df.dropna(subset=[target]).copy()\n",
    "    \n",
    "    if target == 'population':\n",
    "        X = np.log(df[['population']] + 1)  # due to outliers \n",
    "    else:\n",
    "       X = data[[target]]\n",
    "    scaler = StandardScaler()\n",
    "    X_scaled = scaler.fit_transform(X)\n",
    "    \n",
    "    # Clustering with autoencoder + KMeans\n",
    "    encoded_X = autoencoder_clustering(X_scaled)\n",
    "    kmeans = KMeans(n_clusters=3, random_state=42)\n",
    "    autoencoder_labels = kmeans.fit_predict(encoded_X)\n",
    "    autoencoder_score = evaluate_model(X_scaled, autoencoder_labels)\n",
    "    print(f'For {target} autoencoders achived {autoencoder_score}')\n",
    "    \n",
    "    # Clustering with DBSCAN\n",
    "    dbscan = DBSCAN(eps=0.8, min_samples=3)\n",
    "    dbscan_labels = dbscan.fit_predict(X_scaled)\n",
    "    dbscan_score = evaluate_model(X_scaled, dbscan_labels)\n",
    "    print(f'For {target} DBSCAN achived {autoencoder_score}')\n",
    "\n",
    "    \n",
    "    # Clustering with KMeans directly on scaled data\n",
    "    kmeans_labels = KMeans(n_clusters=3, random_state=42).fit_predict(X_scaled)\n",
    "    kmeans_score = evaluate_model(X_scaled, kmeans_labels)\n",
    "    print(f'For {target} kmeans achived {autoencoder_score}')\n",
    "    \n",
    "    # Choose the best model based on silhouette score\n",
    "    scores = {'AutoencoderKMeans': autoencoder_score, 'DBSCAN': dbscan_score, 'KMeans': kmeans_score}\n",
    "    best_model_name = max(scores, key=scores.get)\n",
    "    best_score = scores[best_model_name]\n",
    "     # Get the corresponding best model labels\n",
    "    if best_model_name == 'AutoencoderKMeans':\n",
    "        best_labels = autoencoder_labels\n",
    "    elif best_model_name == 'DBSCAN':\n",
    "        best_labels = dbscan_labels\n",
    "    elif best_model_name == 'KMeans':\n",
    "        best_labels = kmeans_labels\n",
    "\n",
    "    # Save results if valid clustering\n",
    "    if best_score > 0:\n",
    "        data['Assigned Cluster'] = best_labels\n",
    "        results[target] = {'model': best_model_name, 'score': best_score, 'labels': best_labels}\n",
    "        \n",
    "        # Save assigned clusters to a new CSV file\n",
    "        data.to_csv(f'clusters_{target}.csv', index=False)\n",
    "        \n",
    "        plot_clusters_interactive(data, best_labels, target)\n",
    "    else:\n",
    "        print(f\"Clustering failed for {target} (Silhouette Score = {best_score}).\")\n"
   ]
  },
  {
   "cell_type": "code",
   "execution_count": 71,
   "metadata": {},
   "outputs": [
    {
     "name": "stdout",
     "output_type": "stream",
     "text": [
      "Best model for Number of new HIV infections: KMeans with silhouette score: 0.757864284860595\n",
      "Best model for Tobacco use%: KMeans with silhouette score: 0.6251692130126828\n",
      "Best model for Alcohol consumption: KMeans with silhouette score: 0.6003105278626577\n",
      "Best model for population: KMeans with silhouette score: 0.5626040952314414\n",
      "Best model for Prevalence of hypertension%: KMeans with silhouette score: 0.6186705491740943\n"
     ]
    }
   ],
   "source": [
    "for target, result in results.items():\n",
    "    print(f\"Best model for {target}: {result['model']} with silhouette score: {result['score']}\")\n"
   ]
  }
 ],
 "metadata": {
  "kernelspec": {
   "display_name": "env",
   "language": "python",
   "name": "python3"
  },
  "language_info": {
   "codemirror_mode": {
    "name": "ipython",
    "version": 3
   },
   "file_extension": ".py",
   "mimetype": "text/x-python",
   "name": "python",
   "nbconvert_exporter": "python",
   "pygments_lexer": "ipython3",
   "version": "3.11.9"
  }
 },
 "nbformat": 4,
 "nbformat_minor": 2
}
