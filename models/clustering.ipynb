{
 "cells": [
  {
   "cell_type": "code",
   "execution_count": 63,
   "metadata": {},
   "outputs": [],
   "source": [
    "import numpy as np\n",
    "import pandas as pd\n",
    "import matplotlib.pyplot as plt\n",
    "from sklearn.preprocessing import StandardScaler\n",
    "from sklearn.cluster import KMeans, DBSCAN\n",
    "from sklearn.metrics import silhouette_score\n",
    "from keras.layers import Input, Dense\n",
    "from keras.models import Model\n",
    "import plotly.express as px\n",
    "import plotly.io as pio\n",
    "\n",
    "pio.renderers.default = \"browser\""
   ]
  },
  {
   "cell_type": "code",
   "execution_count": 64,
   "metadata": {},
   "outputs": [],
   "source": [
    "dff = pd.read_csv('data.csv')\n",
    "df = dff[dff['year']==2024].copy()\n",
    "df['population'] = df['population'].astype(int)"
   ]
  },
  {
   "cell_type": "code",
   "execution_count": 65,
   "metadata": {},
   "outputs": [],
   "source": [
    "def evaluate_model(X, labels):\n",
    "    if len(set(labels)) > 1:  \n",
    "        score = silhouette_score(X, labels)\n",
    "    else:\n",
    "        score = -1  \n",
    "    return score"
   ]
  },
  {
   "cell_type": "code",
   "execution_count": 66,
   "metadata": {},
   "outputs": [],
   "source": [
    "def plot_clusters_interactive(data, labels, column_name):\n",
    "    data['Assigned Cluster'] = labels\n",
    "    fig = px.scatter(data, x='name', y=column_name, color='Assigned Cluster',\n",
    "                     title=f\"Interactive Clustering of Countries by {column_name}\",\n",
    "                     labels={'name': 'Country', column_name: column_name},\n",
    "                     template='plotly_white')\n",
    "    fig.update_layout(showlegend=True)\n",
    "    fig.show(renderer=\"browser\")  "
   ]
  },
  {
   "cell_type": "code",
   "execution_count": 67,
   "metadata": {},
   "outputs": [],
   "source": [
    "def autoencoder_clustering(X_scaled):\n",
    "    input_dim = X_scaled.shape[1]\n",
    "    input_layer = Input(shape=(input_dim,))\n",
    "    encoder = Dense(16, activation='relu')(input_layer)\n",
    "    encoder = Dense(8, activation='relu')(encoder)\n",
    "    encoder_output = Dense(3, activation='relu')(encoder)\n",
    "    decoder = Dense(8, activation='relu')(encoder_output)\n",
    "    decoder = Dense(16, activation='relu')(decoder)\n",
    "    decoder_output = Dense(input_dim)(decoder)\n",
    "    autoencoder = Model(inputs=input_layer, outputs=decoder_output)\n",
    "    autoencoder.compile(optimizer=\"adam\", loss='mse')\n",
    "    autoencoder.fit(X_scaled, X_scaled, epochs=100, batch_size=32, verbose=0)\n",
    "    encoded_X = Model(inputs=input_layer, outputs=encoder_output).predict(X_scaled)\n",
    "    return encoded_X"
   ]
  },
  {
   "cell_type": "code",
   "execution_count": 68,
   "metadata": {},
   "outputs": [],
   "source": [
    "target_columns = [ 'Number of new HIV infections', 'Tobacco use%', 'Alcohol consumption','population', 'Prevalence of hypertension%']\n"
   ]
  },
  {
   "cell_type": "code",
   "execution_count": 69,
   "metadata": {},
   "outputs": [],
   "source": [
    "results = {}\n"
   ]
  },
  {
   "cell_type": "code",
   "execution_count": null,
   "metadata": {},
   "outputs": [],
   "source": [
    "for target in target_columns:\n",
    "    data = df.dropna(subset=[target]).copy()\n",
    "    \n",
    "    if target == 'population':\n",
    "        X = np.log(df[['population']] + 1)  # due to outliers \n",
    "    else:\n",
    "       X = data[[target]]\n",
    "    scaler = StandardScaler()\n",
    "    X_scaled = scaler.fit_transform(X)\n",
    "    \n",
    "    # Clustering with autoencoder + KMeans\n",
    "    encoded_X = autoencoder_clustering(X_scaled)\n",
    "    kmeans = KMeans(n_clusters=3, random_state=42)\n",
    "    autoencoder_labels = kmeans.fit_predict(encoded_X)\n",
    "    autoencoder_score = evaluate_model(X_scaled, autoencoder_labels)\n",
    "    print(f'For {target} autoencoders achived {autoencoder_score}')\n",
    "    \n",
    "    # Clustering with DBSCAN\n",
    "    dbscan = DBSCAN(eps=0.8, min_samples=3)\n",
    "    dbscan_labels = dbscan.fit_predict(X_scaled)\n",
    "    dbscan_score = evaluate_model(X_scaled, dbscan_labels)\n",
    "    print(f'For {target} DBSCAN achived {autoencoder_score}')\n",
    "\n",
    "    \n",
    "    # Clustering with KMeans directly on scaled data\n",
    "    kmeans_labels = KMeans(n_clusters=3, random_state=42).fit_predict(X_scaled)\n",
    "    kmeans_score = evaluate_model(X_scaled, kmeans_labels)\n",
    "    print(f'For {target} kmeans achived {autoencoder_score}')\n",
    "    \n",
    "    # Choose the best model based on silhouette score\n",
    "    scores = {'AutoencoderKMeans': autoencoder_score, 'DBSCAN': dbscan_score, 'KMeans': kmeans_score}\n",
    "    best_model_name = max(scores, key=scores.get)\n",
    "    best_score = scores[best_model_name]\n",
    "     # Get the corresponding best model labels\n",
    "    if best_model_name == 'AutoencoderKMeans':\n",
    "        best_labels = autoencoder_labels\n",
    "    elif best_model_name == 'DBSCAN':\n",
    "        best_labels = dbscan_labels\n",
    "    elif best_model_name == 'KMeans':\n",
    "        best_labels = kmeans_labels\n",
    "\n",
    "    # Save results if valid clustering\n",
    "    if best_score > 0:\n",
    "        data['Assigned Cluster'] = best_labels\n",
    "        results[target] = {'model': best_model_name, 'score': best_score, 'labels': best_labels}\n",
    "        \n",
    "        # Save assigned clusters to a new CSV file\n",
    "        data.to_csv(f'clusters_{target}.csv', index=False)\n",
    "        \n",
    "        plot_clusters_interactive(data, best_labels, target)\n",
    "    else:\n",
    "        print(f\"Clustering failed for {target} (Silhouette Score = {best_score}).\")\n"
   ]
  },
  {
   "cell_type": "markdown",
   "metadata": {},
   "source": [
    "## Why these models?\n",
    "\n",
    "The clustering models applied to the dataset were a strong choice because they allowed for the identification of inherent groupings within complex health and demographic data. \n",
    "1. **KMeans** is highly effective for partitioning data based on numerical attributes like population, health expenditure, and lifestyle factors, which are continuous and varied across countries. \n",
    "2. **DBSCAN**, being density-based, efficiently handled noise and outliers in regions with sparse data points, making it suitable for unevenly distributed health data. \n",
    "3. **Autoencoders**, as unsupervised neural networks, provided dimensionality reduction and highlighted latent structures in the dataset, which were crucial for analyzing non-linear relationships. \n",
    "<br><br><br>\n",
    "Together, these models provided a comprehensive understanding of how countries cluster based on health indicators and socio-economic factors, enhancing the accuracy of subsequent analyses and predictions."
   ]
  },
  {
   "cell_type": "markdown",
   "metadata": {},
   "source": [
    "## Results"
   ]
  },
  {
   "cell_type": "code",
   "execution_count": 4,
   "metadata": {},
   "outputs": [
    {
     "name": "stdout",
     "output_type": "stream",
     "text": [
      "Best model for Number of new HIV infections: Autoencoders with silhouette score: 0.8572\n",
      "Best model for Tobacco use%: DBSCAN with silhouette score: 0.837\n",
      "Best model for Alcohol consumption: DBSCAN with silhouette score: 0.7947\n",
      "Best model for Population: Autoencoders with silhouette score: 0.7818\n",
      "Best model for Prevalence of hypertension%: Autoencoders with silhouette score: 0.8084\n"
     ]
    }
   ],
   "source": [
    "for target, result in results.items():\n",
    "    print(f\"Best model for {target}: {result['model']} with silhouette score: {result['score']}\")"
   ]
  },
  {
   "cell_type": "code",
   "execution_count": 10,
   "metadata": {},
   "outputs": [
    {
     "data": {
      "text/plain": [
       "'clustering_model_scores.csv'"
      ]
     },
     "execution_count": 10,
     "metadata": {},
     "output_type": "execute_result"
    }
   ],
   "source": [
    "pd.DataFrame(results).to_csv('clusteringModelscomparison/clustering_model_scores.csv', index=False)"
   ]
  },
  {
   "cell_type": "code",
   "execution_count": 15,
   "metadata": {},
   "outputs": [],
   "source": [
    "import matplotlib.pyplot as plt\n",
    "import pandas as pd\n",
    "import numpy as np\n",
    "\n",
    "file_path = \"clusteringModelscomparison/clustering_model_scores.csv\"\n",
    "data = pd.read_csv(file_path)\n",
    "\n",
    "features = data[\"Feature\"].tolist()\n",
    "models = data.columns[1:]\n",
    "scores = data[models].to_numpy()\n",
    "\n",
    "for i, feature in enumerate(features):\n",
    "    plt.figure(figsize=(8, 6))\n",
    "    plt.bar(models, scores[i], color=[\"#FF6F61\", \"#6B5B95\", \"#88B04B\"])\n",
    "    plt.title(f\"Model Scores for {feature}\")\n",
    "    plt.ylabel(\"Score\")\n",
    "    plt.ylim(0, 1.2)\n",
    "    plt.savefig(f\"clusteringModelscomparison/barplot_{feature.replace('%', 'pct').replace(' ', '_')}.png\")\n",
    "    plt.close()\n",
    "\n",
    "\n",
    "\n",
    "\n",
    "x = np.arange(len(features))  \n",
    "width = 0.2  \n",
    "plt.figure(figsize=(12, 8))\n",
    "for i, model in enumerate(models):\n",
    "    plt.bar(x + i * width, scores[:, i], width, label=model)\n",
    "plt.title(\"Model Scores for Each Feature\")\n",
    "plt.xticks(x + width, features, rotation=45, ha=\"right\")\n",
    "plt.ylabel(\"Score\")\n",
    "plt.ylim(0, 1.2)\n",
    "plt.legend(title=\"Models\")\n",
    "plt.savefig(\"clusteringModelscomparison/grouped_barplot.png\")\n",
    "plt.close()\n",
    "\n",
    "\n",
    "\n",
    "\n",
    "plt.figure(figsize=(10, 6))\n",
    "for i, model in enumerate(models):\n",
    "    plt.plot(features, scores[:, i], marker=\"o\", label=model)\n",
    "\n",
    "plt.title(\"Trend of Model Performance Across Features\")\n",
    "plt.xticks(rotation=45)\n",
    "plt.ylabel(\"Score\")\n",
    "plt.ylim(0, 1.2)\n",
    "plt.legend(title=\"Models\")\n",
    "plt.grid(axis=\"y\", linestyle=\"--\", alpha=0.7)\n",
    "plt.savefig(\"clusteringModelscomparison/lineplot_trends.png\")\n",
    "plt.close()\n"
   ]
  }
 ],
 "metadata": {
  "kernelspec": {
   "display_name": "env",
   "language": "python",
   "name": "python3"
  },
  "language_info": {
   "codemirror_mode": {
    "name": "ipython",
    "version": 3
   },
   "file_extension": ".py",
   "mimetype": "text/x-python",
   "name": "python",
   "nbconvert_exporter": "python",
   "pygments_lexer": "ipython3",
   "version": "3.11.9"
  }
 },
 "nbformat": 4,
 "nbformat_minor": 2
}
